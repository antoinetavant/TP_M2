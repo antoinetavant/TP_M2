{
 "cells": [
  {
   "cell_type": "markdown",
   "source": [
    "# TP2: 1D Poisson solver : analysis of the numerical method used\n"
   ],
   "metadata": {}
  },
  {
   "cell_type": "code",
   "execution_count": 1,
   "source": [
    "# ! pip install -q pandas astropy TPM2PPF_learntools matplotlib numpy"
   ],
   "outputs": [],
   "metadata": {}
  },
  {
   "cell_type": "code",
   "execution_count": 2,
   "source": [
    "# usfull packages for the TP\n",
    "import numpy as np\n",
    "import matplotlib.pyplot as plt\n",
    "%matplotlib inline\n",
    "plt.style.use('./presentation.mplstyle')  # improve the matplotlib figure with custom style"
   ],
   "outputs": [],
   "metadata": {
    "ExecuteTime": {
     "end_time": "2018-11-19T09:01:57.000950Z",
     "start_time": "2018-11-19T09:01:56.647556Z"
    }
   }
  },
  {
   "cell_type": "code",
   "execution_count": 3,
   "source": [
    "from TPM2PPF_learntools.core import binder; binder.bind(globals())\n",
    "from TPM2PPF_learntools.TPM2.ex2 import *\n",
    "print(\"Setup complete! You're ready to start question 1.\")\n",
    "\n",
    "%load_ext autoreload\n",
    "%autoreload 2"
   ],
   "outputs": [
    {
     "output_type": "stream",
     "name": "stdout",
     "text": [
      "Setup complete! You're ready to start question 1.\n"
     ]
    }
   ],
   "metadata": {}
  },
  {
   "cell_type": "markdown",
   "source": [
    "# First : Importing the Thomas Solver from TP1\n",
    "\n",
    "To have access to the function `thomas` written in TP1, you can either :\n",
    "1. Create a python module (i.e. a text file with extention `.py`), paste the definition of the function there, and import it with `from <filename> import thomas`\n",
    "2. or copy and past the definition in a cell bellow. \n",
    "\n",
    "\n",
    "Solution 1. is best, try it if you can !"
   ],
   "metadata": {}
  },
  {
   "cell_type": "code",
   "execution_count": 29,
   "source": [
    "# from mymodule import thomas  # uncomment this once you created the file `mymodule.py`"
   ],
   "outputs": [],
   "metadata": {
    "ExecuteTime": {
     "end_time": "2018-11-19T09:01:57.013681Z",
     "start_time": "2018-11-19T09:01:57.003495Z"
    }
   }
  },
  {
   "cell_type": "code",
   "execution_count": 49,
   "source": [
    "# q0.check()"
   ],
   "outputs": [],
   "metadata": {}
  },
  {
   "cell_type": "markdown",
   "source": [
    "In this TP, we will discuss of the performances of the solver. \n",
    "There is several aspects to the performances, like :\n",
    "\n",
    "2. The complexity in time (or memory): evolution of the time (or memory) needed to solve with the size of the problem)\n",
    "3. The precission of the solution with respect to the theoric solution\n",
    "\n",
    "\n",
    "# Section 1 : Algorithm Complexity\n",
    "\n",
    "To measure the time needed to solve the equation, you can use either :\n",
    "\n",
    "1. the jupyter magic command `%timeit` (one line) or `%%timeit` (whole cell) to time the execution of the solver. \n",
    "2. Use the package `time` to get the time before and after the call to the function, then compare the two values.\n",
    "\n",
    "\n",
    "## Exercice 1:\n",
    "Analyze the evolution of the time taken to solve the equation for various values of $N$, and comment the results :\n",
    "\n",
    "1. First, write a function to obtain the time needed to solve a system of size $N$\n",
    "2. Save the time needed for different value of $N$, between very small values ($N=10$) to very large one (like $N=500 000$)\n",
    "3. Generate a `matplotlib` figure with the values. Be sure the figure is present in the file you send me !\n",
    "4. Write a text to comment the result: how is the complexity ? Is is expected ?\n",
    "\n",
    "\n"
   ],
   "metadata": {}
  },
  {
   "cell_type": "markdown",
   "source": [
    "## Q1.a : timer Function"
   ],
   "metadata": {}
  },
  {
   "cell_type": "code",
   "execution_count": 32,
   "source": [
    "def time_thomas(N, N_measure=5):\n",
    "    \"\"\"Measure the time needed to solve the equation using Thomas solver. \n",
    "    N_measure is to average the performance over several measures\"\"\"\n",
    "    import time\n",
    "\n",
    "    pass\n",
    "\n",
    "time_thomas(50)"
   ],
   "outputs": [],
   "metadata": {
    "ExecuteTime": {
     "end_time": "2018-11-19T09:01:57.094734Z",
     "start_time": "2018-11-19T09:01:57.084456Z"
    }
   }
  },
  {
   "cell_type": "code",
   "execution_count": 33,
   "source": [
    "# q1.a.hint()  # uncomment to see the hint !"
   ],
   "outputs": [],
   "metadata": {}
  },
  {
   "cell_type": "code",
   "execution_count": 34,
   "source": [
    "# q1.a.solution()  # Uncomment to read the solution"
   ],
   "outputs": [],
   "metadata": {}
  },
  {
   "cell_type": "markdown",
   "source": [
    "## Q1.b : measuring the time\n",
    "use `time_thomas` over various values of N."
   ],
   "metadata": {}
  },
  {
   "cell_type": "code",
   "execution_count": 35,
   "source": [
    "\"\"\"Time the call to the functions solve for various values of N\"\"\"\n",
    "# Your code here"
   ],
   "outputs": [
    {
     "output_type": "execute_result",
     "data": {
      "text/plain": [
       "'Time the call to the functions solve for various values of N'"
      ]
     },
     "metadata": {},
     "execution_count": 35
    }
   ],
   "metadata": {
    "ExecuteTime": {
     "end_time": "2018-11-19T09:01:57.106197Z",
     "start_time": "2018-11-19T09:01:57.097051Z"
    },
    "jupyter": {
     "source_hidden": true
    }
   }
  },
  {
   "cell_type": "code",
   "execution_count": 36,
   "source": [
    "# q1.b.hint() \n",
    "# q1.b.solution()\n"
   ],
   "outputs": [],
   "metadata": {}
  },
  {
   "cell_type": "markdown",
   "source": [
    "## Q1.c : analyse and discussion"
   ],
   "metadata": {}
  },
  {
   "cell_type": "code",
   "execution_count": 37,
   "source": [
    "\"\"\"matplolib figure here\"\"\""
   ],
   "outputs": [
    {
     "output_type": "execute_result",
     "data": {
      "text/plain": [
       "'matplolib figure here'"
      ]
     },
     "metadata": {},
     "execution_count": 37
    }
   ],
   "metadata": {}
  },
  {
   "cell_type": "markdown",
   "source": [
    "_____________\n",
    "Your comments here\n",
    "_____________"
   ],
   "metadata": {}
  },
  {
   "cell_type": "code",
   "execution_count": 38,
   "source": [
    "# q1.c.hint()"
   ],
   "outputs": [],
   "metadata": {}
  },
  {
   "cell_type": "markdown",
   "source": [
    "# Excercie 2 :  Precision\n",
    "\n",
    "For the same values of $N$, calculate the error of the solution $V$ and plot it.\n",
    "Conclude."
   ],
   "metadata": {}
  },
  {
   "cell_type": "code",
   "execution_count": 39,
   "source": [
    "\"\"\" compute the error for various values of N\"\"\"\n",
    "# Your code here"
   ],
   "outputs": [
    {
     "output_type": "execute_result",
     "data": {
      "text/plain": [
       "' compute the error for various values of N'"
      ]
     },
     "metadata": {},
     "execution_count": 39
    }
   ],
   "metadata": {
    "ExecuteTime": {
     "end_time": "2018-11-19T09:01:57.106197Z",
     "start_time": "2018-11-19T09:01:57.097051Z"
    }
   }
  },
  {
   "cell_type": "code",
   "execution_count": 40,
   "source": [
    "\"\"\"matplolib figure here\"\"\""
   ],
   "outputs": [
    {
     "output_type": "execute_result",
     "data": {
      "text/plain": [
       "'matplolib figure here'"
      ]
     },
     "metadata": {},
     "execution_count": 40
    }
   ],
   "metadata": {}
  },
  {
   "cell_type": "markdown",
   "source": [
    "_____________\n",
    "Your comments here\n",
    "_____________"
   ],
   "metadata": {}
  },
  {
   "cell_type": "code",
   "execution_count": 41,
   "source": [
    "# q2.a.hint()"
   ],
   "outputs": [],
   "metadata": {}
  },
  {
   "cell_type": "markdown",
   "source": [
    "# Libraries\n",
    "Solving a linear system is a common common problem. Hence, most of the time, we can find libraries that will do the job for us.\n",
    "In python, those can be found the in `scipy.linalg` module, which mostly uses the `LAPACK` fortran library.\n",
    "\n",
    "1. Import the function `solve` of `scipy`, and use it.\n",
    "2. Which numerical method uses the function `solve` ? (direct, iterative, SOR, ... ? You can use the documentation online)\n",
    "3. Try different values for the `assume_a` argument of the function `solve`. What are the effects and why ?\n",
    "4. `scipy` also have a `sparce.linalg` module, optimized for parse linear system. Use it, and compare its performance with the other methods. (**optional question**)\n"
   ],
   "metadata": {}
  },
  {
   "cell_type": "code",
   "execution_count": 42,
   "source": [
    "\"\"\"using solve\"\"\"\n",
    "# Your code here\n"
   ],
   "outputs": [
    {
     "output_type": "execute_result",
     "data": {
      "text/plain": [
       "'using solve'"
      ]
     },
     "metadata": {},
     "execution_count": 42
    }
   ],
   "metadata": {
    "ExecuteTime": {
     "end_time": "2018-11-19T09:02:25.576854Z",
     "start_time": "2018-11-19T09:02:25.567508Z"
    }
   }
  },
  {
   "cell_type": "code",
   "execution_count": 43,
   "source": [
    "\"\"\"using sparce solve (optional)\"\"\"\n",
    "# your code here\n"
   ],
   "outputs": [
    {
     "output_type": "execute_result",
     "data": {
      "text/plain": [
       "'using sparce solve (optional)'"
      ]
     },
     "metadata": {},
     "execution_count": 43
    }
   ],
   "metadata": {
    "ExecuteTime": {
     "end_time": "2018-11-19T09:02:25.595800Z",
     "start_time": "2018-11-19T09:02:25.578589Z"
    }
   }
  },
  {
   "cell_type": "code",
   "execution_count": 44,
   "source": [
    "# q3.hint()"
   ],
   "outputs": [],
   "metadata": {}
  },
  {
   "cell_type": "markdown",
   "source": [
    "_____________\n",
    "Your comments here\n",
    "_____________"
   ],
   "metadata": {}
  },
  {
   "cell_type": "markdown",
   "source": [
    "# Efficiency in python\n",
    "\n",
    "The \"home made\" `thomas` function is very slow compared to the others because the `for` loop is slow in python compared to compiled language like `C++` (the main language of `scipy` or `numpy`) or `Fortran` (the language of `LAPACK`). \n",
    "\n",
    "Several methods can be used to improve the efficiency of python codes, like:\n",
    "* _vectorizing_ the code, that is writing it as matrix operations and using `numpy` for matrix product.\n",
    "* Using `Cython`, a compiled version of python, but this is almost as using another language like `C`.\n",
    "* _JITing_ the code, with `numba`. `numba` will perfom an analysis of the code, and compile it if possible. For more information, see [Just In Time compilation (jit)](https://en.wikipedia.org/wiki/Just-in-time_compilation)\n",
    "\n",
    "Unfortunatly, the Thomas algorithm cannot be vectorized.\n",
    "Here, we will just use `numba`, which is quite simple to use in our case."
   ],
   "metadata": {}
  },
  {
   "cell_type": "code",
   "execution_count": 45,
   "source": [
    "from numba import jit\n",
    "thomas_jited = jit(thomas)"
   ],
   "outputs": [],
   "metadata": {
    "ExecuteTime": {
     "end_time": "2018-11-19T09:02:25.741175Z",
     "start_time": "2018-11-19T09:02:25.597748Z"
    }
   }
  },
  {
   "cell_type": "markdown",
   "source": [
    "_____________\n",
    "Your comments here\n",
    "_____________"
   ],
   "metadata": {}
  },
  {
   "cell_type": "code",
   "execution_count": 46,
   "source": [
    "import time\n",
    "\n",
    "def measure_time_numba(N=100):\n",
    "    a, b, c, d = np.random.rand(4, N)\n",
    "    start_time = time.time()\n",
    "    x = thomas_jited(a, b, c, d)\n",
    "    stop_time = time.time()\n",
    "\n",
    "    return stop_time - start_time\n",
    "\n",
    "def measure_time(N=100):\n",
    "    a, b, c, d = np.random.rand(4, N)\n",
    "    start_time = time.time()\n",
    "    x = thomas(a, b, c, d)\n",
    "    stop_time = time.time()\n",
    "\n",
    "    return stop_time - start_time"
   ],
   "outputs": [],
   "metadata": {}
  },
  {
   "cell_type": "code",
   "execution_count": 47,
   "source": [
    "measure_time_numba() \n",
    "\n",
    "N = 100_000_0\n",
    "measure_time_numba(N)  # Runing twice as Numba needs to compile it the first time\n"
   ],
   "outputs": [
    {
     "output_type": "execute_result",
     "data": {
      "text/plain": [
       "0.035402536392211914"
      ]
     },
     "metadata": {},
     "execution_count": 47
    }
   ],
   "metadata": {}
  },
  {
   "cell_type": "code",
   "execution_count": 48,
   "source": [
    "measure_time(N)"
   ],
   "outputs": [
    {
     "output_type": "execute_result",
     "data": {
      "text/plain": [
       "3.8076863288879395"
      ]
     },
     "metadata": {},
     "execution_count": 48
    }
   ],
   "metadata": {}
  },
  {
   "cell_type": "code",
   "execution_count": null,
   "source": [],
   "outputs": [],
   "metadata": {}
  }
 ],
 "metadata": {
  "kernelspec": {
   "name": "python3",
   "display_name": "Python 3.9.6 64-bit"
  },
  "language_info": {
   "codemirror_mode": {
    "name": "ipython",
    "version": 3
   },
   "file_extension": ".py",
   "mimetype": "text/x-python",
   "name": "python",
   "nbconvert_exporter": "python",
   "pygments_lexer": "ipython3",
   "version": "3.9.6"
  },
  "latex_envs": {
   "LaTeX_envs_menu_present": true,
   "autoclose": true,
   "autocomplete": false,
   "bibliofile": "biblio.bib",
   "cite_by": "apalike",
   "current_citInitial": 1,
   "eqLabelWithNumbers": true,
   "eqNumInitial": 1,
   "hotkeys": {
    "equation": "Ctrl-E",
    "itemize": "Ctrl-I"
   },
   "labels_anchors": false,
   "latex_user_defs": false,
   "report_style_numbering": false,
   "user_envs_cfg": false
  },
  "toc": {
   "base_numbering": 1,
   "nav_menu": {},
   "number_sections": true,
   "sideBar": true,
   "skip_h1_title": false,
   "title_cell": "Table of Contents",
   "title_sidebar": "Contents",
   "toc_cell": false,
   "toc_position": {},
   "toc_section_display": true,
   "toc_window_display": false
  },
  "varInspector": {
   "cols": {
    "lenName": 16,
    "lenType": 16,
    "lenVar": 40
   },
   "kernels_config": {
    "python": {
     "delete_cmd_postfix": "",
     "delete_cmd_prefix": "del ",
     "library": "var_list.py",
     "varRefreshCmd": "print(var_dic_list())"
    },
    "r": {
     "delete_cmd_postfix": ") ",
     "delete_cmd_prefix": "rm(",
     "library": "var_list.r",
     "varRefreshCmd": "cat(var_dic_list()) "
    }
   },
   "types_to_exclude": [
    "module",
    "function",
    "builtin_function_or_method",
    "instance",
    "_Feature"
   ],
   "window_display": false
  },
  "interpreter": {
   "hash": "e7370f93d1d0cde622a1f8e1c04877d8463912d04d973331ad4851f04de6915a"
  }
 },
 "nbformat": 4,
 "nbformat_minor": 4
}