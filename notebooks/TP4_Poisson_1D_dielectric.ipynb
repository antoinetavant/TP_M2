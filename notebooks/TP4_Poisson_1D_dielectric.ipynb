{
 "cells": [
  {
   "cell_type": "markdown",
   "metadata": {},
   "source": [
    "# Poisson equation in 1D\n",
    "\n",
    "Here, we will solve the Poisson equation over a 1D domain:\n",
    "\\begin{equation}\\label{eq:probel}\n",
    "\\epsilon_0 \\nabla_x  \\left[ \\epsilon_r(x) \\nabla_x V(x) \\right] = - \\rho(x), \\, \\, \\, \\quad 0<x<L_x\n",
    "\\end{equation}\n"
   ]
  },
  {
   "cell_type": "markdown",
   "metadata": {},
   "source": [
    "# With dielectric layers\n",
    "\n",
    "Is this section, we consider dielectric layers:\n",
    "* $\\epsilon_r(x) = 1$ in the plasma\n",
    "* $\\epsilon_r(x) = 5$ in the electrons $x < L_e$ and $x > L_x - L_e$\n",
    "\n",
    "## Exercice 1:\n",
    "\n",
    "Question: Comment on the value of $L_e$ depending on $L_x$ and the number of points used for the discretisation\n",
    "\n",
    "### Discretisation\n",
    "\n",
    "Write the equation for $V_i = V(x_i)$ as a function of $V_{i-1}$ and $V_{i+1}$\n"
   ]
  },
  {
   "cell_type": "markdown",
   "metadata": {},
   "source": [
    " ____\n",
    " Type your answer here\n",
    " ____"
   ]
  },
  {
   "cell_type": "markdown",
   "metadata": {},
   "source": [
    "### Boundary condition\n",
    "Write the equation for $V_1$ and $V_N$ for the following cases:\n",
    "1. Dirichlet condition: the anode in $i=1$ at a voltage of $U_a$ and the cathode in $i=N$ at $U_c$\n",
    "2. Neuman condition: no electric field at the anode nor the cathode\n",
    "3. Periodic conditions\n"
   ]
  },
  {
   "cell_type": "markdown",
   "metadata": {},
   "source": [
    " ____\n",
    " Type your answer here\n",
    " ____"
   ]
  },
  {
   "cell_type": "markdown",
   "metadata": {},
   "source": [
    "## Solving the potential\n",
    "\n",
    "Re-write the solver, and use it to solve two cases: no charge density and a uniforme charge density."
   ]
  },
  {
   "cell_type": "code",
   "execution_count": 1,
   "metadata": {
    "ExecuteTime": {
     "end_time": "2018-11-19T09:25:21.457061Z",
     "start_time": "2018-11-19T09:25:21.261508Z"
    }
   },
   "outputs": [],
   "source": [
    "import numpy as np\n",
    "%matplotlib inline\n",
    "import matplotlib.pyplot as plt"
   ]
  },
  {
   "cell_type": "code",
   "execution_count": 23,
   "metadata": {
    "ExecuteTime": {
     "end_time": "2018-10-25T09:58:50.255803Z",
     "start_time": "2018-10-25T09:58:50.241200Z"
    }
   },
   "outputs": [],
   "source": [
    "def thomas(a, b, c, d):\n",
    "    \"\"\"arguments: a,b,c and d, four vector of same size\n",
    "    Return x a vector of the same size of a\"\"\"\n",
    "    \n",
    "    N = len(a)\n",
    "    \"Verifying that the inputs are correct\"\n",
    "    assert len(b)== N and len(c) == N and len(d) == N, \"the arguments are not of the same lenght\"\n",
    "    \n",
    "    x = np.zeros_like(a)\n",
    "    # Write your code here\n",
    "    \n",
    "    return x"
   ]
  },
  {
   "cell_type": "markdown",
   "metadata": {},
   "source": [
    "## Solving poisson with Thomas algorithm\n",
    "\n",
    "Use the `thomas` function you have writent in TP1 to solve the poisson equation of question 2.1.3 for the different cases:\n",
    "1. No charge density ($\\rho = 0$)\n",
    "1. Uniform charge density ($\\rho = 1$)\n",
    "\n",
    "For each cases, plot the results using `matplotlib.pyplot`, and analyse the results briefly\n"
   ]
  },
  {
   "cell_type": "markdown",
   "metadata": {},
   "source": [
    "**1. No charge density**"
   ]
  },
  {
   "cell_type": "code",
   "execution_count": 2,
   "metadata": {
    "ExecuteTime": {
     "end_time": "2018-10-25T11:05:30.580958Z",
     "start_time": "2018-10-25T11:05:30.572899Z"
    }
   },
   "outputs": [],
   "source": [
    "Ua = 10  # Anode potential\n",
    "Uc = 0   # Cathode potential\n",
    "N = 50   # Number of points that discretise the domain\n",
    "Lx = 1   # size of the domain\n",
    "Le = 0.1\n",
    "eps_r = 5"
   ]
  },
  {
   "cell_type": "code",
   "execution_count": 58,
   "metadata": {
    "ExecuteTime": {
     "end_time": "2018-10-25T10:15:26.626803Z",
     "start_time": "2018-10-25T10:15:26.609626Z"
    }
   },
   "outputs": [
    {
     "data": {
      "text/plain": [
       "' No charge density: solver'"
      ]
     },
     "execution_count": 58,
     "metadata": {},
     "output_type": "execute_result"
    }
   ],
   "source": [
    "\"\"\" No charge density: solver\"\"\"\n",
    "\n",
    "# write your code here"
   ]
  },
  {
   "cell_type": "code",
   "execution_count": 59,
   "metadata": {
    "ExecuteTime": {
     "end_time": "2018-10-25T10:15:28.023866Z",
     "start_time": "2018-10-25T10:15:28.016336Z"
    }
   },
   "outputs": [
    {
     "data": {
      "text/plain": [
       "'No charge density: results'"
      ]
     },
     "execution_count": 59,
     "metadata": {},
     "output_type": "execute_result"
    }
   ],
   "source": [
    "\"\"\"No charge density: results\"\"\"\n",
    "# Genergate the figure here"
   ]
  },
  {
   "cell_type": "markdown",
   "metadata": {},
   "source": [
    "**1. Uniform charge density**"
   ]
  },
  {
   "cell_type": "code",
   "execution_count": 60,
   "metadata": {
    "ExecuteTime": {
     "end_time": "2018-10-25T10:15:29.828120Z",
     "start_time": "2018-10-25T10:15:29.823927Z"
    }
   },
   "outputs": [],
   "source": [
    "rho = np.ones(N)  # source therm"
   ]
  },
  {
   "cell_type": "code",
   "execution_count": 61,
   "metadata": {
    "ExecuteTime": {
     "end_time": "2018-10-25T10:15:30.395172Z",
     "start_time": "2018-10-25T10:15:30.389527Z"
    }
   },
   "outputs": [
    {
     "data": {
      "text/plain": [
       "' Uniform charge density: solver'"
      ]
     },
     "execution_count": 61,
     "metadata": {},
     "output_type": "execute_result"
    }
   ],
   "source": [
    "\"\"\" Uniform charge density: solver\"\"\"\n",
    "\n",
    "# write your code here"
   ]
  },
  {
   "cell_type": "code",
   "execution_count": 62,
   "metadata": {
    "ExecuteTime": {
     "end_time": "2018-10-25T10:15:31.085678Z",
     "start_time": "2018-10-25T10:15:31.081926Z"
    }
   },
   "outputs": [
    {
     "data": {
      "text/plain": [
       "'Uniform charge density: results'"
      ]
     },
     "execution_count": 62,
     "metadata": {},
     "output_type": "execute_result"
    }
   ],
   "source": [
    "\"\"\"Uniform charge density: results\"\"\"\n",
    "# Genergate the figure here"
   ]
  }
 ],
 "metadata": {
  "kernelspec": {
   "display_name": "Python 3",
   "language": "python",
   "name": "python3"
  },
  "language_info": {
   "codemirror_mode": {
    "name": "ipython",
    "version": 3
   },
   "file_extension": ".py",
   "mimetype": "text/x-python",
   "name": "python",
   "nbconvert_exporter": "python",
   "pygments_lexer": "ipython3",
   "version": "3.7.4"
  },
  "latex_envs": {
   "LaTeX_envs_menu_present": true,
   "autoclose": true,
   "autocomplete": false,
   "bibliofile": "biblio.bib",
   "cite_by": "apalike",
   "current_citInitial": 1,
   "eqLabelWithNumbers": true,
   "eqNumInitial": 1,
   "hotkeys": {
    "equation": "Ctrl-E",
    "itemize": "Ctrl-I"
   },
   "labels_anchors": false,
   "latex_user_defs": false,
   "report_style_numbering": false,
   "user_envs_cfg": false
  },
  "toc": {
   "base_numbering": 1,
   "nav_menu": {},
   "number_sections": true,
   "sideBar": true,
   "skip_h1_title": false,
   "title_cell": "Table of Contents",
   "title_sidebar": "Contents",
   "toc_cell": false,
   "toc_position": {},
   "toc_section_display": true,
   "toc_window_display": false
  },
  "varInspector": {
   "cols": {
    "lenName": 16,
    "lenType": 16,
    "lenVar": 40
   },
   "kernels_config": {
    "python": {
     "delete_cmd_postfix": "",
     "delete_cmd_prefix": "del ",
     "library": "var_list.py",
     "varRefreshCmd": "print(var_dic_list())"
    },
    "r": {
     "delete_cmd_postfix": ") ",
     "delete_cmd_prefix": "rm(",
     "library": "var_list.r",
     "varRefreshCmd": "cat(var_dic_list()) "
    }
   },
   "types_to_exclude": [
    "module",
    "function",
    "builtin_function_or_method",
    "instance",
    "_Feature"
   ],
   "window_display": false
  }
 },
 "nbformat": 4,
 "nbformat_minor": 2
}
