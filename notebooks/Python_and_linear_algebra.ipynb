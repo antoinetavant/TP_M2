{
 "cells": [
  {
   "cell_type": "markdown",
   "source": [
    "# Efficient linear algebra in python\n",
    "\n",
    "Here, we will see some **do** and **don't** int order to obtain an efficient python code when dealing with arrays.\n",
    "\n",
    "## Built-in lists\n",
    "\n",
    "Python has a built-in `list`, as well as a `tuple`:"
   ],
   "metadata": {}
  },
  {
   "cell_type": "code",
   "execution_count": 2,
   "source": [
    "A = [1, 2, 4]\n",
    "B = (4, 5 ,6)\n",
    "print(type(A), type(B))"
   ],
   "outputs": [
    {
     "output_type": "stream",
     "name": "stdout",
     "text": [
      "<class 'list'> <class 'tuple'>\n"
     ]
    }
   ],
   "metadata": {
    "ExecuteTime": {
     "end_time": "2018-11-04T00:22:54.397540Z",
     "start_time": "2018-11-04T00:22:54.381580Z"
    }
   }
  },
  {
   "cell_type": "markdown",
   "source": [
    "The `list` is created using the square brackets, while the `tuple` uses the usual round brackets.\n",
    "At our level, there is no differences between the two, but using the `list` is more usual.\n",
    "\n",
    "To create a `list`, we usualy uses the \"constuctor syntax\".\n",
    "For instance, let's create a `list` with 1000 elements squared."
   ],
   "metadata": {
    "ExecuteTime": {
     "end_time": "2018-11-04T00:22:29.676383Z",
     "start_time": "2018-11-04T00:22:29.662130Z"
    }
   }
  },
  {
   "cell_type": "code",
   "execution_count": 3,
   "source": [
    "N = 1000\n",
    "A = [ float(i)**2 for i in range(N)]\n",
    "print(A[:10])"
   ],
   "outputs": [
    {
     "output_type": "stream",
     "name": "stdout",
     "text": [
      "[0.0, 1.0, 4.0, 9.0, 16.0, 25.0, 36.0, 49.0, 64.0, 81.0]\n"
     ]
    }
   ],
   "metadata": {
    "ExecuteTime": {
     "end_time": "2018-11-04T00:36:55.643317Z",
     "start_time": "2018-11-04T00:36:55.630009Z"
    }
   }
  },
  {
   "cell_type": "markdown",
   "source": [
    "There are some builtin function for the list, as the `sum`. Those functions are usualy faster than self-made function.\n",
    "\n",
    "For Example, let's calculate the sum of the list:"
   ],
   "metadata": {}
  },
  {
   "cell_type": "code",
   "execution_count": 4,
   "source": [
    "%%timeit\n",
    "tmp = 0\n",
    "for a in A:\n",
    "    tmp += a"
   ],
   "outputs": [
    {
     "output_type": "stream",
     "name": "stdout",
     "text": [
      "35.4 µs ± 1.82 µs per loop (mean ± std. dev. of 7 runs, 10000 loops each)\n"
     ]
    }
   ],
   "metadata": {
    "ExecuteTime": {
     "end_time": "2018-11-04T00:37:00.389977Z",
     "start_time": "2018-11-04T00:36:57.967230Z"
    }
   }
  },
  {
   "cell_type": "code",
   "execution_count": 5,
   "source": [
    "%%timeit\n",
    "sum(A)"
   ],
   "outputs": [
    {
     "output_type": "stream",
     "name": "stdout",
     "text": [
      "5.36 µs ± 177 ns per loop (mean ± std. dev. of 7 runs, 100000 loops each)\n"
     ]
    }
   ],
   "metadata": {
    "ExecuteTime": {
     "end_time": "2018-11-04T00:37:04.794655Z",
     "start_time": "2018-11-04T00:37:00.403163Z"
    }
   }
  },
  {
   "cell_type": "markdown",
   "source": [
    "We can see that the built-in`sum` fonction of the `list` can be significantly faster than a `for` loop."
   ],
   "metadata": {}
  },
  {
   "cell_type": "markdown",
   "source": [
    "**On the efficiency of the list**:\n",
    "\n",
    "Unfortunatly, `lists` are not very efficent, as the structure is made to `append` or `pop` elements easily. Hence, the list store the reference of the data elsewhere in the memory.\n",
    "\n",
    "\n",
    "## `numpy`\n",
    "\n",
    "`numpy` is a package that is made to store `arrays` (vectore, matrix, etc.) more efficiently.\n",
    "We usualy import it as `np`.\n",
    "\n",
    "Transforming a `list` to an `array` is easy. Once the data is stored as an array, the function will be more efficient !"
   ],
   "metadata": {
    "ExecuteTime": {
     "end_time": "2018-11-04T00:29:40.071748Z",
     "start_time": "2018-11-04T00:29:40.057594Z"
    }
   }
  },
  {
   "cell_type": "code",
   "execution_count": 6,
   "source": [
    "import numpy as np\n",
    "\n",
    "Anp = np.array(A)"
   ],
   "outputs": [],
   "metadata": {
    "ExecuteTime": {
     "end_time": "2018-11-04T00:37:04.817271Z",
     "start_time": "2018-11-04T00:37:04.813375Z"
    }
   }
  },
  {
   "cell_type": "code",
   "execution_count": 7,
   "source": [
    "%%timeit\n",
    "Anp.sum()"
   ],
   "outputs": [
    {
     "output_type": "stream",
     "name": "stdout",
     "text": [
      "2.73 µs ± 117 ns per loop (mean ± std. dev. of 7 runs, 100000 loops each)\n"
     ]
    }
   ],
   "metadata": {
    "ExecuteTime": {
     "end_time": "2018-11-04T00:37:06.758236Z",
     "start_time": "2018-11-04T00:37:04.867906Z"
    }
   }
  },
  {
   "cell_type": "markdown",
   "source": [
    "Using `numpy` reduced the computational time of `sum` compare the the `list` `sum`, with is more that `10x` faster thant the `for` loop !"
   ],
   "metadata": {}
  },
  {
   "cell_type": "markdown",
   "source": [
    "## Multi-dimentional array\n",
    "aka: `ndarray`.\n",
    "\n",
    "`numpy` is design to deals with nd arrays.\n"
   ],
   "metadata": {}
  },
  {
   "cell_type": "code",
   "execution_count": 8,
   "source": [
    "print(\"Identity matix : \")\n",
    "I = 2*np.eye(5)\n",
    "print(I)\n",
    "\n",
    "\n",
    "A = np.ones(shape=(4,5))\n",
    "\n",
    "print(\"Scalair product :\")\n",
    "A.dot(I)"
   ],
   "outputs": [
    {
     "output_type": "stream",
     "name": "stdout",
     "text": [
      "Identity matix : \n",
      "[[2. 0. 0. 0. 0.]\n",
      " [0. 2. 0. 0. 0.]\n",
      " [0. 0. 2. 0. 0.]\n",
      " [0. 0. 0. 2. 0.]\n",
      " [0. 0. 0. 0. 2.]]\n",
      "Scalair product :\n"
     ]
    },
    {
     "output_type": "execute_result",
     "data": {
      "text/plain": [
       "array([[2., 2., 2., 2., 2.],\n",
       "       [2., 2., 2., 2., 2.],\n",
       "       [2., 2., 2., 2., 2.],\n",
       "       [2., 2., 2., 2., 2.]])"
      ]
     },
     "metadata": {},
     "execution_count": 8
    }
   ],
   "metadata": {
    "ExecuteTime": {
     "end_time": "2018-11-13T16:22:27.068094Z",
     "start_time": "2018-11-13T16:22:27.039395Z"
    }
   }
  },
  {
   "cell_type": "markdown",
   "source": [
    "## Vectorizing\n",
    "\n",
    "For $99\\%$ of the time, a `for` loop will be slower that a build-in function of `numpy`.\n",
    "\n",
    "Transforming a loop into a matrix product, by example, is name **vectorizing** an operation.\n",
    "You should always try to vectorise everything.\n"
   ],
   "metadata": {}
  },
  {
   "cell_type": "code",
   "execution_count": 13,
   "source": [
    "# Here is two vectors of size 100\n",
    "A = np.linspace(0, 5, 100)\n",
    "print(A[:5])\n",
    "B = np.linspace(30, 5, 100)"
   ],
   "outputs": [
    {
     "output_type": "stream",
     "name": "stdout",
     "text": [
      "[0.         0.05050505 0.1010101  0.15151515 0.2020202 ]\n"
     ]
    }
   ],
   "metadata": {
    "ExecuteTime": {
     "end_time": "2018-11-13T16:24:11.415750Z",
     "start_time": "2018-11-13T16:24:11.402329Z"
    }
   }
  },
  {
   "cell_type": "code",
   "execution_count": 16,
   "source": [
    "print(\"Scalar product between Two vectors: \")\n",
    "%timeit C = A.dot(B)"
   ],
   "outputs": [
    {
     "output_type": "stream",
     "name": "stdout",
     "text": [
      "Scalar product between Two vectors: \n",
      "722 ns ± 22.8 ns per loop (mean ± std. dev. of 7 runs, 1000000 loops each)\n"
     ]
    }
   ],
   "metadata": {
    "ExecuteTime": {
     "end_time": "2018-11-04T00:53:25.646074Z",
     "start_time": "2018-11-04T00:53:20.093772Z"
    }
   }
  },
  {
   "cell_type": "code",
   "execution_count": 17,
   "source": [
    "%%timeit\n",
    "C = 0\n",
    "for a, b in zip(A, B):\n",
    "    C += a*b"
   ],
   "outputs": [
    {
     "output_type": "stream",
     "name": "stdout",
     "text": [
      "48.3 µs ± 1.08 µs per loop (mean ± std. dev. of 7 runs, 10000 loops each)\n"
     ]
    }
   ],
   "metadata": {
    "ExecuteTime": {
     "end_time": "2018-11-04T00:53:27.692192Z",
     "start_time": "2018-11-04T00:53:25.686405Z"
    }
   }
  },
  {
   "cell_type": "markdown",
   "source": [
    "The `numpy` scalar product is more than 50 times faster ! (it may depend on the computer you uses)"
   ],
   "metadata": {}
  },
  {
   "cell_type": "markdown",
   "source": [
    "### Remarque\n",
    "`numpy` usually `map` the operations.\n",
    "That is, the product operator `*` or the function `np.exp` will actually be applied element-wise."
   ],
   "metadata": {}
  },
  {
   "cell_type": "code",
   "execution_count": 18,
   "source": [
    "(A*B)[:5]"
   ],
   "outputs": [
    {
     "output_type": "execute_result",
     "data": {
      "text/plain": [
       "array([0.        , 1.50239771, 2.97928783, 4.43067034, 5.85654525])"
      ]
     },
     "metadata": {},
     "execution_count": 18
    }
   ],
   "metadata": {
    "ExecuteTime": {
     "end_time": "2018-11-04T00:54:19.614475Z",
     "start_time": "2018-11-04T00:54:19.602434Z"
    }
   }
  },
  {
   "cell_type": "code",
   "execution_count": 19,
   "source": [
    "np.exp(A)[:5]"
   ],
   "outputs": [
    {
     "output_type": "execute_result",
     "data": {
      "text/plain": [
       "array([1.        , 1.05180218, 1.10628782, 1.16359593, 1.22387273])"
      ]
     },
     "metadata": {},
     "execution_count": 19
    }
   ],
   "metadata": {
    "ExecuteTime": {
     "end_time": "2018-11-04T00:54:31.016506Z",
     "start_time": "2018-11-04T00:54:31.009423Z"
    }
   }
  },
  {
   "cell_type": "markdown",
   "source": [
    "# Conclusion\n",
    "\n",
    "This introductions to arrays was quite lite, but you should have gain some information.\n",
    "\n",
    "For a deeper introductions to arrays, you can see [this notebook](https://github.com/pierreablin/python-sessions/blob/master/Reference_arrays_args.ipynb)\n",
    "\n",
    "For a deeper discussion on fast python calculations, you can see [this notebook](https://github.com/pierreablin/python-sessions/blob/master/fast_python.ipynb)"
   ],
   "metadata": {}
  },
  {
   "cell_type": "code",
   "execution_count": null,
   "source": [],
   "outputs": [],
   "metadata": {}
  }
 ],
 "metadata": {
  "kernelspec": {
   "display_name": "Python 3",
   "language": "python",
   "name": "python3"
  },
  "language_info": {
   "codemirror_mode": {
    "name": "ipython",
    "version": 3
   },
   "file_extension": ".py",
   "mimetype": "text/x-python",
   "name": "python",
   "nbconvert_exporter": "python",
   "pygments_lexer": "ipython3",
   "version": "3.8.6"
  },
  "latex_envs": {
   "LaTeX_envs_menu_present": true,
   "autoclose": true,
   "autocomplete": false,
   "bibliofile": "biblio.bib",
   "cite_by": "apalike",
   "current_citInitial": 1,
   "eqLabelWithNumbers": true,
   "eqNumInitial": 1,
   "hotkeys": {
    "equation": "Ctrl-E",
    "itemize": "Ctrl-I"
   },
   "labels_anchors": false,
   "latex_user_defs": false,
   "report_style_numbering": false,
   "user_envs_cfg": false
  },
  "toc": {
   "base_numbering": 1,
   "nav_menu": {},
   "number_sections": true,
   "sideBar": true,
   "skip_h1_title": false,
   "title_cell": "Table of Contents",
   "title_sidebar": "Contents",
   "toc_cell": false,
   "toc_position": {},
   "toc_section_display": true,
   "toc_window_display": false
  },
  "varInspector": {
   "cols": {
    "lenName": 16,
    "lenType": 16,
    "lenVar": 40
   },
   "kernels_config": {
    "python": {
     "delete_cmd_postfix": "",
     "delete_cmd_prefix": "del ",
     "library": "var_list.py",
     "varRefreshCmd": "print(var_dic_list())"
    },
    "r": {
     "delete_cmd_postfix": ") ",
     "delete_cmd_prefix": "rm(",
     "library": "var_list.r",
     "varRefreshCmd": "cat(var_dic_list()) "
    }
   },
   "types_to_exclude": [
    "module",
    "function",
    "builtin_function_or_method",
    "instance",
    "_Feature"
   ],
   "window_display": false
  }
 },
 "nbformat": 4,
 "nbformat_minor": 4
}