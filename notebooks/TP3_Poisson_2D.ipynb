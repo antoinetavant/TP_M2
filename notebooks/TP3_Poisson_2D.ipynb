{
 "cells": [
  {
   "cell_type": "markdown",
   "metadata": {},
   "source": [
    "# Poisson equation in 2D\n",
    "\n",
    "Here, we will solve the Poisson equation over a 2D domain:\n",
    "\\begin{equation}\\label{eq:probel}\n",
    "\\epsilon_0 \\nabla_{x,y}  \\left[ \\epsilon_r(x,y) \\nabla_{x,y} V(x,y) \\right] = - \\rho(x,y), \\, \\, \\, \\quad 0<x<L_x, 0<y<L_y\n",
    "\\end{equation}\n"
   ]
  },
  {
   "cell_type": "markdown",
   "metadata": {},
   "source": [
    "# In the Plasma\n",
    "Is this section, we consider $\\epsilon_r(x, y) = 1$\n",
    "\n",
    "## Exercice 1:\n",
    "\n",
    "### Discretisation\n",
    "\n",
    "Write the equation for $V_{i,j} = V(x_i, y_j)$ as a function of $V_{i-1,j}$, $V_{i+1,j}$, $V_{i,j-1}$ and $V_{i,j+1}$\n"
   ]
  },
  {
   "cell_type": "markdown",
   "metadata": {},
   "source": [
    " Type your answer here"
   ]
  },
  {
   "cell_type": "markdown",
   "metadata": {},
   "source": [
    "### Boundary condition\n",
    "Write the equation for the following boundary conditions:\n",
    "1. Dirichlet condition at the anode in $i=1$ at a voltage of $U_a$ and the cathode in $i=N$ at $U_c$\n",
    "2. Neuman condition in $j=1$ and $j=M$ with no electric field"
   ]
  },
  {
   "cell_type": "markdown",
   "metadata": {},
   "source": [
    " Type your answer here"
   ]
  },
  {
   "cell_type": "markdown",
   "metadata": {},
   "source": [
    "\n",
    "### Linear system\n",
    "Summurize the discretised Poisson equation using the matrix notation $A V = \\rho$ in the case of the Dirichlet condition."
   ]
  },
  {
   "cell_type": "code",
   "execution_count": null,
   "metadata": {},
   "outputs": [],
   "source": [
    " Type your answer here"
   ]
  },
  {
   "cell_type": "markdown",
   "metadata": {},
   "source": [
    "## Resolution\n",
    "\n",
    "Question: Can we use the thomas algorithm ? Why ?\n",
    "\n",
    "Complet the function SOR to solve the system using the functions provided"
   ]
  },
  {
   "cell_type": "code",
   "execution_count": 10,
   "metadata": {
    "ExecuteTime": {
     "end_time": "2018-10-25T09:45:24.060507Z",
     "start_time": "2018-10-25T09:45:24.056952Z"
    }
   },
   "outputs": [],
   "source": [
    "import numpy as np"
   ]
  },
  {
   "cell_type": "code",
   "execution_count": null,
   "metadata": {},
   "outputs": [],
   "source": []
  },
  {
   "cell_type": "code",
   "execution_count": 2,
   "metadata": {
    "ExecuteTime": {
     "end_time": "2018-10-25T11:14:49.619599Z",
     "start_time": "2018-10-25T11:14:49.611221Z"
    }
   },
   "outputs": [],
   "source": [
    "\"\"\"Mesh parameters\"\"\"\n",
    "Nx = 50\n",
    "Ny = 50\n",
    "dx = 1./Nx\n",
    "dy = 1./Ny"
   ]
  },
  {
   "cell_type": "code",
   "execution_count": 1,
   "metadata": {
    "ExecuteTime": {
     "end_time": "2019-11-18T08:28:38.109200Z",
     "start_time": "2019-11-18T08:28:38.100689Z"
    }
   },
   "outputs": [],
   "source": [
    "\"\"\"Physical parameters\"\"\"\n",
    "Ua = 100       #  in V (right side)\n",
    "Uc = 10        # (left side)\n",
    "\n",
    "eps0 = 8.85E-14   # F/cm\n",
    "\n",
    "# dielectric layers\n",
    "epsdiel=1    # default =1 (no dielectric)\n",
    "\n",
    "nxdg = 0 # Nx/10      # dielectric anode side\n",
    "nxdd = 0 # Nx/10      # dielectric cathode side         "
   ]
  },
  {
   "cell_type": "code",
   "execution_count": 4,
   "metadata": {
    "ExecuteTime": {
     "end_time": "2018-10-25T11:18:47.764385Z",
     "start_time": "2018-10-25T11:18:47.622776Z"
    }
   },
   "outputs": [],
   "source": [
    "# Coefficients\n",
    "\n",
    "def E(i,j):\n",
    "    \"\"\"return the dielectric permitivity for the cell (i,j)\"\"\"\n",
    "    if i < nxdg or i > Nx - nxdd:\n",
    "        return eps0*epsdiel\n",
    "    else:\n",
    "        return eps0\n",
    "\n",
    "\n",
    "def Ve(i,j):\n",
    "    \"\"\"The coefficient EAST of the cell (i,j)\"\"\"\n",
    "    Ei=E(i,j)\n",
    "    EI=E(i+1,j)\n",
    "    if i == Nx-1:\n",
    "        return 2*Ei/(dx*dx)\n",
    "    else:\n",
    "        return 2*Ei*EI/(dx*dx*(Ei+EI))\n",
    "\n",
    "def Vo(i,j):\n",
    "    \"\"\"The coefficient OUEST of the cell (i,j)\"\"\"\n",
    "    Ei=E(i,j)\n",
    "    EI=E(i-1,j)\n",
    "    if i == 0:\n",
    "        return 2*Ei/(dx*dx)\n",
    "    else:\n",
    "        return 2*Ei*EI/(dx*dx*(Ei+EI))\n",
    "\n",
    "def Vn(i,j):\n",
    "    \"\"\"The coefficient NORTH of the cell (i,j)\"\"\"\n",
    "    Ej=E(i,j)\n",
    "    EJ=E(i,j+1)\n",
    "    if j == Ny-1:\n",
    "        return 0\n",
    "    else:\n",
    "        return 2*Ej*EJ/(dy*dy*(Ej+EJ))\n",
    "\n",
    "def Vs(i,j):\n",
    "    \"\"\"The coefficient SOUTH of the cell (i,j)\"\"\"\n",
    "    Ej=E(i,j)\n",
    "    EJ=E(i,j-1)\n",
    "    if j == 0:\n",
    "        return 0\n",
    "    else:\n",
    "        return 2*Ej*EJ/(dy*dy*(Ej+EJ))\n",
    "\n",
    "def Vc(i,j):\n",
    "    \"\"\"The coefficient CENTER of the cell (i,j)\"\"\"\n",
    "    return Ve(i,j)+Vo(i,j)+Vn(i,j)+Vs(i,j)\n",
    "\n",
    "def rho(i,j):\n",
    "    \"\"\"The Charge density of the cell (i,j)\"\"\"\n",
    "    if i == 0 :\n",
    "        return -2*E(i,j)/(dx*dx)*Uc\n",
    "    else:\n",
    "        if i == Nx-1:\n",
    "            return -2*E(i,j)/(dx*dx)*Ua\n",
    "        else:\n",
    "            return 0\n",
    "\n",
    "def V(i,j):\n",
    "    \"\"\"Current potential of the cell (i,j)\"\"\"\n",
    "    if i == -1 or i == Nx or j == -1 or j == Ny:\n",
    "        return 0\n",
    "    else:\n",
    "        return Vact[i,j]\n"
   ]
  },
  {
   "cell_type": "code",
   "execution_count": 5,
   "metadata": {
    "ExecuteTime": {
     "end_time": "2018-10-25T11:23:11.893512Z",
     "start_time": "2018-10-25T11:23:11.887692Z"
    }
   },
   "outputs": [],
   "source": [
    "Vact = np.zeros((Nx,Ny))"
   ]
  },
  {
   "cell_type": "code",
   "execution_count": 23,
   "metadata": {
    "ExecuteTime": {
     "end_time": "2018-10-25T09:58:50.255803Z",
     "start_time": "2018-10-25T09:58:50.241200Z"
    }
   },
   "outputs": [],
   "source": [
    "def SOR(w=1):\n",
    "    \"\"\"arguments: w between 0 and 2\n",
    "    Return x a vector of the same size of a\"\"\"\n",
    "    \n",
    "    \"Verifying that the inputs are correct\"\n",
    "    assert w > 0 and w < 2 , \"the argument is not between 0 and 2\"\n",
    "    \n",
    "    # Write your code here\n",
    "    \n",
    "    return x"
   ]
  },
  {
   "cell_type": "code",
   "execution_count": 71,
   "metadata": {
    "ExecuteTime": {
     "end_time": "2018-10-25T10:22:29.039785Z",
     "start_time": "2018-10-25T10:22:28.993471Z"
    }
   },
   "outputs": [],
   "source": [
    "\"\"\"The solution ! \"\"\"\n"
   ]
  },
  {
   "cell_type": "code",
   "execution_count": 74,
   "metadata": {
    "ExecuteTime": {
     "end_time": "2018-10-25T10:23:26.058828Z",
     "start_time": "2018-10-25T10:23:25.867726Z"
    }
   },
   "outputs": [],
   "source": [
    "import matplotlib.pyplot as plt"
   ]
  },
  {
   "cell_type": "markdown",
   "metadata": {},
   "source": [
    "**1. No charge density**"
   ]
  },
  {
   "cell_type": "code",
   "execution_count": null,
   "metadata": {},
   "outputs": [],
   "source": [
    "Ua = 10  # Anode potential\n",
    "Uc = 0   # Cathode potential\n",
    "N = 50   # Number of points that discretise the domain\n",
    "Lx = 1   # size of the domain"
   ]
  },
  {
   "cell_type": "code",
   "execution_count": 58,
   "metadata": {
    "ExecuteTime": {
     "end_time": "2018-10-25T10:15:26.626803Z",
     "start_time": "2018-10-25T10:15:26.609626Z"
    }
   },
   "outputs": [
    {
     "data": {
      "text/plain": [
       "' No charge density: solver'"
      ]
     },
     "execution_count": 58,
     "metadata": {},
     "output_type": "execute_result"
    }
   ],
   "source": [
    "\"\"\" No charge density: solver\"\"\"\n",
    "\n",
    "# write your code here"
   ]
  },
  {
   "cell_type": "code",
   "execution_count": 59,
   "metadata": {
    "ExecuteTime": {
     "end_time": "2018-10-25T10:15:28.023866Z",
     "start_time": "2018-10-25T10:15:28.016336Z"
    }
   },
   "outputs": [
    {
     "data": {
      "text/plain": [
       "'No charge density: results'"
      ]
     },
     "execution_count": 59,
     "metadata": {},
     "output_type": "execute_result"
    }
   ],
   "source": [
    "\"\"\"No charge density: results\"\"\"\n",
    "# Genergate the figure here"
   ]
  },
  {
   "cell_type": "markdown",
   "metadata": {},
   "source": [
    "**1. Uniform charge density**"
   ]
  },
  {
   "cell_type": "code",
   "execution_count": 60,
   "metadata": {
    "ExecuteTime": {
     "end_time": "2018-10-25T10:15:29.828120Z",
     "start_time": "2018-10-25T10:15:29.823927Z"
    }
   },
   "outputs": [],
   "source": [
    "rho = np.ones((Nx,Ny))  # source therm"
   ]
  },
  {
   "cell_type": "code",
   "execution_count": 61,
   "metadata": {
    "ExecuteTime": {
     "end_time": "2018-10-25T10:15:30.395172Z",
     "start_time": "2018-10-25T10:15:30.389527Z"
    }
   },
   "outputs": [
    {
     "data": {
      "text/plain": [
       "' Uniform charge density: solver'"
      ]
     },
     "execution_count": 61,
     "metadata": {},
     "output_type": "execute_result"
    }
   ],
   "source": [
    "\"\"\" Uniform charge density: solver\"\"\"\n",
    "\n",
    "# write your code here"
   ]
  },
  {
   "cell_type": "code",
   "execution_count": 62,
   "metadata": {
    "ExecuteTime": {
     "end_time": "2018-10-25T10:15:31.085678Z",
     "start_time": "2018-10-25T10:15:31.081926Z"
    }
   },
   "outputs": [
    {
     "data": {
      "text/plain": [
       "'Uniform charge density: results'"
      ]
     },
     "execution_count": 62,
     "metadata": {},
     "output_type": "execute_result"
    }
   ],
   "source": [
    "\"\"\"Uniform charge density: results\"\"\"\n",
    "# Genergate the figure here"
   ]
  },
  {
   "cell_type": "markdown",
   "metadata": {},
   "source": [
    "# Performances\n",
    "\n",
    "## Complexity\n",
    "Uses the magic comande `%timeit` or `%%timeit` to time the execution of a line or a cell, respectively.\n",
    "Analyse the evolution of the time taken to solve the equation for various value of $N_x$ and $N_y$, and comment the results"
   ]
  },
  {
   "cell_type": "code",
   "execution_count": null,
   "metadata": {},
   "outputs": [],
   "source": [
    "Your code"
   ]
  },
  {
   "cell_type": "markdown",
   "metadata": {},
   "source": [
    "Your comments"
   ]
  },
  {
   "cell_type": "markdown",
   "metadata": {},
   "source": [
    "# Efficiency in python\n",
    "\n",
    "How could we improve the efficientcy of the solver ?\n",
    "Several answer can be given."
   ]
  },
  {
   "cell_type": "code",
   "execution_count": null,
   "metadata": {},
   "outputs": [],
   "source": []
  }
 ],
 "metadata": {
  "kernelspec": {
   "display_name": "Python 3",
   "language": "python",
   "name": "python3"
  },
  "language_info": {
   "codemirror_mode": {
    "name": "ipython",
    "version": 3
   },
   "file_extension": ".py",
   "mimetype": "text/x-python",
   "name": "python",
   "nbconvert_exporter": "python",
   "pygments_lexer": "ipython3",
   "version": "3.7.4"
  },
  "latex_envs": {
   "LaTeX_envs_menu_present": true,
   "autoclose": true,
   "autocomplete": false,
   "bibliofile": "biblio.bib",
   "cite_by": "apalike",
   "current_citInitial": 1,
   "eqLabelWithNumbers": true,
   "eqNumInitial": 1,
   "hotkeys": {
    "equation": "Ctrl-E",
    "itemize": "Ctrl-I"
   },
   "labels_anchors": false,
   "latex_user_defs": false,
   "report_style_numbering": false,
   "user_envs_cfg": false
  },
  "toc": {
   "base_numbering": 1,
   "nav_menu": {},
   "number_sections": true,
   "sideBar": true,
   "skip_h1_title": false,
   "title_cell": "Table of Contents",
   "title_sidebar": "Contents",
   "toc_cell": false,
   "toc_position": {},
   "toc_section_display": true,
   "toc_window_display": false
  },
  "varInspector": {
   "cols": {
    "lenName": 16,
    "lenType": 16,
    "lenVar": 40
   },
   "kernels_config": {
    "python": {
     "delete_cmd_postfix": "",
     "delete_cmd_prefix": "del ",
     "library": "var_list.py",
     "varRefreshCmd": "print(var_dic_list())"
    },
    "r": {
     "delete_cmd_postfix": ") ",
     "delete_cmd_prefix": "rm(",
     "library": "var_list.r",
     "varRefreshCmd": "cat(var_dic_list()) "
    }
   },
   "types_to_exclude": [
    "module",
    "function",
    "builtin_function_or_method",
    "instance",
    "_Feature"
   ],
   "window_display": false
  }
 },
 "nbformat": 4,
 "nbformat_minor": 2
}
