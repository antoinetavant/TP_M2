{
 "cells": [
  {
   "cell_type": "code",
   "execution_count": 1,
   "source": [
    "# ! pip install -q pandas astropy TPM2PPF_learntools matplotlib numpy"
   ],
   "outputs": [],
   "metadata": {}
  },
  {
   "cell_type": "code",
   "execution_count": 2,
   "source": [
    "from TPM2PPF_learntools.core import binder; binder.bind(globals())\n",
    "from TPM2PPF_learntools.TPM2.ex3 import *\n",
    "print(\"Setup complete! You're ready to start question 1.\")\n",
    "\n",
    "%load_ext autoreload\n",
    "%autoreload 2"
   ],
   "outputs": [
    {
     "output_type": "stream",
     "name": "stdout",
     "text": [
      "Setup complete! You're ready to start question 1.\n"
     ]
    }
   ],
   "metadata": {}
  },
  {
   "cell_type": "markdown",
   "source": [
    "# Poisson equation in 2D\n",
    "\n",
    "Here, we will solve the Poisson equation over a 2D domain:\n",
    "\n",
    "$$\n",
    "\\epsilon_0 \\nabla_{x,y}  \\left[ \\epsilon_r(x,y) \\nabla_{x,y} V(x,y) \\right] = - \\rho(x,y), \\, \\, \\, \\quad 0<x<L_x, 0<y<L_y\n",
    "$$\n"
   ],
   "metadata": {}
  },
  {
   "cell_type": "markdown",
   "source": [
    "Is this Exercice, we consider $\\epsilon_r(x, y) = 1$, hence we have the equation :\n",
    "\n",
    "$$\n",
    " \\Delta_{x,y}   V(x,y) = - \\frac{\\rho(x,y)}{\\epsilon_0}, \\, \\, \\, \\quad 0<x<L_x, 0<y<L_y\n",
    "\n",
    "$$\n",
    "\n",
    "\n",
    "# Section 1: discretisation\n",
    "\n",
    "We use the same discretisation as in 1D :\n",
    "- $x$ becomes `i`\n",
    "- $y$ becomes `j`\n",
    "- $\\frac{- \\rho(x,y)}{\\epsilon_0}$ becomes `d_{i,j}`\n",
    "\n",
    "\n",
    "## Q1 : in the volume\n",
    "Write the equation for the potential $V_{i,j} = V(x_i, y_j)$ as a function of $V_{i-1,j}$, $V_{i+1,j}$, $V_{i,j-1}$ and $V_{i,j+1}$ the potential of the four cells nearby.\n",
    "\n",
    "Do not take care of the boundary conditions yet.\n"
   ],
   "metadata": {}
  },
  {
   "cell_type": "markdown",
   "source": [
    " _____________\n",
    "Type your answer here\n",
    "_____________\n"
   ],
   "metadata": {}
  },
  {
   "cell_type": "code",
   "execution_count": 3,
   "source": [
    "# q1.hint()"
   ],
   "outputs": [],
   "metadata": {}
  },
  {
   "cell_type": "markdown",
   "source": [
    "## Q2: boundary conditions\n",
    "\n",
    "\n",
    "Write the equations for the following boundary conditions:\n",
    "\n",
    "1. Dirichlet condition at the anode in $i=1$ at a voltage of $U_a$ and the cathode in $i=N$ at $U_c$\n",
    "2. Neuman condition in $j=1$ and $j=M$ with no electric field"
   ],
   "metadata": {}
  },
  {
   "cell_type": "markdown",
   "source": [
    " _____________\n",
    "Type your answer here\n",
    "_____________\n"
   ],
   "metadata": {}
  },
  {
   "cell_type": "code",
   "execution_count": 4,
   "source": [
    "# q2.hint()"
   ],
   "outputs": [],
   "metadata": {}
  },
  {
   "cell_type": "markdown",
   "source": [
    "\n",
    "## Q3 : Linear system\n",
    "\n",
    "Summarize the discretised Poisson equation using the matrix notation $A V = d$ in the case of the Dirichlet condition.\n",
    "\n",
    "_Warning:_ the matrix $A$ is more complex here than in 1D ! take your time to express it as clearly as possible.\n",
    "Do not forget the boundary conditions in both $x$ and $y$ directions"
   ],
   "metadata": {}
  },
  {
   "cell_type": "markdown",
   "source": [
    " _____________\n",
    "Type your answer here\n",
    "_____________\n"
   ],
   "metadata": {}
  },
  {
   "cell_type": "code",
   "execution_count": 5,
   "source": [
    "# q3.hint()\n",
    "# q3.solution()"
   ],
   "outputs": [],
   "metadata": {}
  },
  {
   "cell_type": "markdown",
   "source": [
    "# Secton 2:  Resolution\n",
    "\n",
    "## Q4.a: Can we use the thomas algorithm in our situation ? Why ?\n"
   ],
   "metadata": {}
  },
  {
   "cell_type": "markdown",
   "source": [
    " _____________\n",
    "Type your answer here\n",
    "_____________\n"
   ],
   "metadata": {}
  },
  {
   "cell_type": "code",
   "execution_count": 6,
   "source": [
    "# q4.a.hint()"
   ],
   "outputs": [],
   "metadata": {}
  },
  {
   "cell_type": "markdown",
   "source": [
    "## Q4.b SOR algorithm\n",
    "\n",
    "Complet the function SOR to solve the system using the functions provided.\n",
    "We recall that the SOR algorithm as been introduced in the presentation."
   ],
   "metadata": {}
  },
  {
   "cell_type": "code",
   "execution_count": 6,
   "source": [
    "import numpy as np\n",
    "import matplotlib.pyplot as plt\n",
    "plt.style.use('./presentation.mplstyle')  # improve the matplotlib figure with custom style"
   ],
   "outputs": [],
   "metadata": {
    "ExecuteTime": {
     "end_time": "2018-10-25T09:45:24.060507Z",
     "start_time": "2018-10-25T09:45:24.056952Z"
    }
   }
  },
  {
   "cell_type": "code",
   "execution_count": 7,
   "source": [
    "\"\"\"Mesh parameters\"\"\"\n",
    "N = 50\n",
    "M = 50\n",
    "dx = 1./N\n",
    "dy = 1./M"
   ],
   "outputs": [],
   "metadata": {
    "ExecuteTime": {
     "end_time": "2018-10-25T11:14:49.619599Z",
     "start_time": "2018-10-25T11:14:49.611221Z"
    }
   }
  },
  {
   "cell_type": "code",
   "execution_count": 8,
   "source": [
    "\"\"\"Physical parameters\"\"\"\n",
    "Ua = 45       #  in V (right side)\n",
    "Uc = 10        # (left side)\n",
    "\n",
    "eps0 = 8.85E-14   # F/cm\n",
    "\n",
    "# dielectric layers\n",
    "epsdiel=1    # default =1 (no dielectric)\n",
    "\n",
    "nxdg = 0 # N/10      # dielectric anode side\n",
    "nxdd = 0 # N/10      # dielectric cathode side         "
   ],
   "outputs": [],
   "metadata": {
    "ExecuteTime": {
     "end_time": "2019-11-18T08:28:38.109200Z",
     "start_time": "2019-11-18T08:28:38.100689Z"
    }
   }
  },
  {
   "cell_type": "code",
   "execution_count": 116,
   "source": [
    "# Coefficients\n",
    "# do not change the fonctions here after.  Thoses are to be used in the SOR algorithm\n",
    "\n",
    "def E(i,j):\n",
    "    \"\"\"return the dielectric permitivity for the cell (i,j)\"\"\"\n",
    "    if i < nxdg or i > N - nxdd:\n",
    "        return eps0*epsdiel\n",
    "    else:\n",
    "        return eps0\n",
    "\n",
    "\n",
    "def Ve(i,j):\n",
    "    \"\"\"The coefficient EAST of the cell (i,j)\"\"\"\n",
    "    Ei=E(i,j)\n",
    "    EI=E(i+1,j)\n",
    "    if i == N-1:\n",
    "        return 2*Ei/(dx*dx)\n",
    "    else:\n",
    "        return 2*Ei*EI/(dx*dx*(Ei+EI))\n",
    "\n",
    "def Vo(i,j):\n",
    "    \"\"\"The coefficient OUEST of the cell (i,j)\"\"\"\n",
    "    Ei=E(i,j)\n",
    "    EI=E(i-1,j)\n",
    "    if i == 0:\n",
    "        return 2*Ei/(dx*dx)\n",
    "    else:\n",
    "        return 2*Ei*EI/(dx*dx*(Ei+EI))\n",
    "\n",
    "def Vn(i,j):\n",
    "    \"\"\"The coefficient NORTH of the cell (i,j)\"\"\"\n",
    "    Ej=E(i,j)\n",
    "    EJ=E(i,j+1)\n",
    "    if j == M-1:\n",
    "        return 0\n",
    "    else:\n",
    "        return 2*Ej*EJ/(dy*dy*(Ej+EJ))\n",
    "\n",
    "def Vs(i,j):\n",
    "    \"\"\"The coefficient SOUTH of the cell (i,j)\"\"\"\n",
    "    Ej=E(i,j)\n",
    "    EJ=E(i,j-1)\n",
    "    if j == 0:\n",
    "        return 0\n",
    "    else:\n",
    "        return 2*Ej*EJ/(dy*dy*(Ej+EJ))\n",
    "\n",
    "def Vc(i,j):\n",
    "    \"\"\"The coefficient CENTER of the cell (i,j)\"\"\"\n",
    "    return Ve(i,j)+Vo(i,j)+Vn(i,j)+Vs(i,j)\n",
    "\n",
    "def rho(i,j):\n",
    "    \"\"\"The Charge density of the cell (i,j)\n",
    "    In this situation, there is no charge density in the domain, only boundary conditions\"\"\"\n",
    "    if i == 0 :\n",
    "        return -2*E(i,j)/(dx*dx)*Uc\n",
    "    else:\n",
    "        if i == N-1:\n",
    "            return -2*E(i,j)/(dx*dx)*Ua\n",
    "        else:\n",
    "            return 0\n",
    "\n",
    "def V(i,j):\n",
    "    \"\"\"Current potential of the cell (i,j)\"\"\"\n",
    "    if i == -1 or i == N or j == -1 or j == M:\n",
    "        return 0\n",
    "    else:\n",
    "        return Vact[i,j]\n",
    "\n",
    "\n",
    "Vact = np.zeros((N,M))  # The solution"
   ],
   "outputs": [],
   "metadata": {
    "ExecuteTime": {
     "end_time": "2018-10-25T11:18:47.764385Z",
     "start_time": "2018-10-25T11:18:47.622776Z"
    }
   }
  },
  {
   "cell_type": "code",
   "execution_count": 117,
   "source": [
    "def SOR(w=1):\n",
    "    \"\"\"arguments: w between 0 and 2\n",
    "    Return x a vector of the same size of a\"\"\"\n",
    "    \n",
    "    \"Verifying that the inputs are correct\"\n",
    "    assert w > 0 and w < 2 , \"the argument is not between 0 and 2\"\n",
    "    \n",
    "    # Write your code here\n",
    "    \n",
    "    return Vact"
   ],
   "outputs": [],
   "metadata": {
    "ExecuteTime": {
     "end_time": "2018-10-25T09:58:50.255803Z",
     "start_time": "2018-10-25T09:58:50.241200Z"
    }
   }
  },
  {
   "cell_type": "code",
   "execution_count": 7,
   "source": [
    "# q4.b.hint()\n",
    "# q4.b.check( ) # \n",
    "# q4.b.solution( ) #"
   ],
   "outputs": [],
   "metadata": {}
  },
  {
   "cell_type": "markdown",
   "source": [
    "# Q5 : Solving th 2D Poisson Equation\n",
    "\n",
    "## Q5.a : solving the case with not charge density\n",
    "\n",
    "Use the `SOR` function to solve the system as defined with the variables above :\n",
    "- $ N=50 $, $ M=50 $\n",
    "- $ U_a=45 $ V\n",
    "- $ U_c = 10$ V\n"
   ],
   "metadata": {}
  },
  {
   "cell_type": "code",
   "execution_count": 122,
   "source": [
    "\"\"\" No charge density: solver\"\"\"\n",
    "\n",
    "# write your code here using the function SOR"
   ],
   "outputs": [
    {
     "output_type": "execute_result",
     "data": {
      "text/plain": [
       "' No charge density: solver'"
      ]
     },
     "metadata": {},
     "execution_count": 122
    }
   ],
   "metadata": {
    "ExecuteTime": {
     "end_time": "2018-10-25T10:15:26.626803Z",
     "start_time": "2018-10-25T10:15:26.609626Z"
    }
   }
  },
  {
   "cell_type": "code",
   "execution_count": 123,
   "source": [
    "\"\"\"No charge density: results\"\"\"\n",
    "# Genergate the figure here"
   ],
   "outputs": [
    {
     "output_type": "execute_result",
     "data": {
      "text/plain": [
       "'No charge density: results'"
      ]
     },
     "metadata": {},
     "execution_count": 123
    }
   ],
   "metadata": {
    "ExecuteTime": {
     "end_time": "2018-10-25T10:15:28.023866Z",
     "start_time": "2018-10-25T10:15:28.016336Z"
    }
   }
  },
  {
   "cell_type": "code",
   "execution_count": 124,
   "source": [
    "# q5.a.hint()\n",
    "# q5.a.check()\n"
   ],
   "outputs": [],
   "metadata": {}
  },
  {
   "cell_type": "markdown",
   "source": [
    "---------\n",
    "Your comments\n",
    "\n",
    "---------"
   ],
   "metadata": {}
  },
  {
   "cell_type": "markdown",
   "source": [
    "## Q5.b. Uniform charge density**"
   ],
   "metadata": {}
  },
  {
   "cell_type": "code",
   "execution_count": 8,
   "source": [
    "def rho(i,j):\n",
    "    \"\"\"The Charge density of the cell (i,j)\n",
    "    In this situation, there is one uniforme charge density in the domain, \n",
    "    in addition to the boundary conditions\"\"\"\n",
    "    if i == 0 :\n",
    "        return -2*E(i,j)/(dx*dx)*Uc\n",
    "    else:\n",
    "        if i == N-1:\n",
    "            return -2*E(i,j)/(dx*dx)*Ua\n",
    "        else:\n",
    "            return 5e-10  # in C/m³\n"
   ],
   "outputs": [],
   "metadata": {
    "ExecuteTime": {
     "end_time": "2018-10-25T10:15:29.828120Z",
     "start_time": "2018-10-25T10:15:29.823927Z"
    }
   }
  },
  {
   "cell_type": "code",
   "execution_count": 76,
   "source": [
    "\"\"\" Uniform charge density: solver\"\"\"\n",
    "\n",
    "# write your code here"
   ],
   "outputs": [
    {
     "output_type": "execute_result",
     "data": {
      "text/plain": [
       "' Uniform charge density: solver'"
      ]
     },
     "metadata": {},
     "execution_count": 76
    }
   ],
   "metadata": {
    "ExecuteTime": {
     "end_time": "2018-10-25T10:15:30.395172Z",
     "start_time": "2018-10-25T10:15:30.389527Z"
    }
   }
  },
  {
   "cell_type": "code",
   "execution_count": 77,
   "source": [
    "\"\"\"Uniform charge density: results\"\"\"\n",
    "# Genergate the figure here"
   ],
   "outputs": [
    {
     "output_type": "execute_result",
     "data": {
      "text/plain": [
       "'Uniform charge density: results'"
      ]
     },
     "metadata": {},
     "execution_count": 77
    }
   ],
   "metadata": {
    "ExecuteTime": {
     "end_time": "2018-10-25T10:15:31.085678Z",
     "start_time": "2018-10-25T10:15:31.081926Z"
    }
   }
  },
  {
   "cell_type": "markdown",
   "source": [
    "---------\n",
    "Your comments\n",
    "\n",
    "---------"
   ],
   "metadata": {}
  },
  {
   "cell_type": "code",
   "execution_count": 125,
   "source": [
    "# q5.b.hint()\n",
    "# q5.b.check()"
   ],
   "outputs": [],
   "metadata": {}
  },
  {
   "cell_type": "markdown",
   "source": [
    "# Performances\n",
    "\n",
    "## Complexity\n",
    "\n",
    "Analyse the evolution of the time taken to solve the equation for various value of $N$ and $M$, as done in 1D, and comment the behavior observed."
   ],
   "metadata": {}
  },
  {
   "cell_type": "code",
   "execution_count": 115,
   "source": [
    "# Your code here"
   ],
   "outputs": [],
   "metadata": {}
  },
  {
   "cell_type": "markdown",
   "source": [
    "---------\n",
    "Your comments\n",
    "\n",
    "---------"
   ],
   "metadata": {}
  },
  {
   "cell_type": "markdown",
   "source": [
    "## Efficiency in python\n",
    "\n",
    "How could we improve the efficientcy of the solver ?\n",
    "Several answer can be given."
   ],
   "metadata": {}
  },
  {
   "cell_type": "markdown",
   "source": [
    "---------\n",
    "Your Answers here\n",
    "\n",
    "---------"
   ],
   "metadata": {}
  }
 ],
 "metadata": {
  "kernelspec": {
   "name": "python3",
   "display_name": "Python 3.9.6 64-bit"
  },
  "language_info": {
   "codemirror_mode": {
    "name": "ipython",
    "version": 3
   },
   "file_extension": ".py",
   "mimetype": "text/x-python",
   "name": "python",
   "nbconvert_exporter": "python",
   "pygments_lexer": "ipython3",
   "version": "3.9.6"
  },
  "latex_envs": {
   "LaTeX_envs_menu_present": true,
   "autoclose": true,
   "autocomplete": false,
   "bibliofile": "biblio.bib",
   "cite_by": "apalike",
   "current_citInitial": 1,
   "eqLabelWithNumbers": true,
   "eqNumInitial": 1,
   "hotkeys": {
    "equation": "Ctrl-E",
    "itemize": "Ctrl-I"
   },
   "labels_anchors": false,
   "latex_user_defs": false,
   "report_style_numbering": false,
   "user_envs_cfg": false
  },
  "toc": {
   "base_numbering": 1,
   "nav_menu": {},
   "number_sections": true,
   "sideBar": true,
   "skip_h1_title": false,
   "title_cell": "Table of Contents",
   "title_sidebar": "Contents",
   "toc_cell": false,
   "toc_position": {},
   "toc_section_display": true,
   "toc_window_display": false
  },
  "varInspector": {
   "cols": {
    "lenName": 16,
    "lenType": 16,
    "lenVar": 40
   },
   "kernels_config": {
    "python": {
     "delete_cmd_postfix": "",
     "delete_cmd_prefix": "del ",
     "library": "var_list.py",
     "varRefreshCmd": "print(var_dic_list())"
    },
    "r": {
     "delete_cmd_postfix": ") ",
     "delete_cmd_prefix": "rm(",
     "library": "var_list.r",
     "varRefreshCmd": "cat(var_dic_list()) "
    }
   },
   "types_to_exclude": [
    "module",
    "function",
    "builtin_function_or_method",
    "instance",
    "_Feature"
   ],
   "window_display": false
  },
  "interpreter": {
   "hash": "e7370f93d1d0cde622a1f8e1c04877d8463912d04d973331ad4851f04de6915a"
  }
 },
 "nbformat": 4,
 "nbformat_minor": 4
}