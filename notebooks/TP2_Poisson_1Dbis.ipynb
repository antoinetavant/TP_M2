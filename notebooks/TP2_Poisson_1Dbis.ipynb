{
 "cells": [
  {
   "cell_type": "markdown",
   "metadata": {},
   "source": [
    "# TP1: 1D Poisson solver : analysis of the numerical method used\n"
   ]
  },
  {
   "cell_type": "code",
   "execution_count": 11,
   "metadata": {
    "ExecuteTime": {
     "end_time": "2018-11-19T09:01:57.000950Z",
     "start_time": "2018-11-19T09:01:56.647556Z"
    }
   },
   "outputs": [],
   "source": [
    "import numpy as np\n",
    "import matplotlib.pyplot as plt\n",
    "%matplotlib inline\n",
    "plt.style.use('./presentation.mplstyle')  # improve the matplotlib figure with custom style"
   ]
  },
  {
   "cell_type": "markdown",
   "metadata": {},
   "source": [
    "Re-write your thomas solver here"
   ]
  },
  {
   "cell_type": "code",
   "execution_count": 12,
   "metadata": {
    "ExecuteTime": {
     "end_time": "2018-11-19T09:01:57.013681Z",
     "start_time": "2018-11-19T09:01:57.003495Z"
    }
   },
   "outputs": [],
   "source": [
    "def thomas(a, b, c, d):\n",
    "    \"\"\"arguments: a,b,c and d, four vector of same size\n",
    "    Return x a vector of the same size of a\"\"\"\n",
    "    \n",
    "    N = len(a)\n",
    "    \"Verifying that the inputs are correct\"\n",
    "    assert len(b)== N and len(c) == N and len(d) == N, \"the arguments are not of the same lenght\"\n",
    "    \n",
    "    x = np.zeros_like(a)\n",
    "    \n",
    "    #~~~~~~~~~~~~~~~~~~~~~~~~\n",
    "    # Write your code here\n",
    "    #~~~~~~~~~~~~~~~~~~~~~~~~\n",
    "    \n",
    "    return x"
   ]
  },
  {
   "cell_type": "code",
   "execution_count": 13,
   "metadata": {
    "ExecuteTime": {
     "end_time": "2018-11-19T09:01:57.081818Z",
     "start_time": "2018-11-19T09:01:57.064583Z"
    }
   },
   "outputs": [
    {
     "ename": "AssertionError",
     "evalue": "the function `thomas` is incorrect",
     "output_type": "error",
     "traceback": [
      "\u001b[0;31m---------------------------------------------------------------------------\u001b[0m",
      "\u001b[0;31mAssertionError\u001b[0m                            Traceback (most recent call last)",
      "\u001b[0;32m<ipython-input-13-cff738fedbd8>\u001b[0m in \u001b[0;36m<module>\u001b[0;34m\u001b[0m\n\u001b[1;32m     13\u001b[0m \u001b[0;34m\u001b[0m\u001b[0m\n\u001b[1;32m     14\u001b[0m \u001b[0mx\u001b[0m \u001b[0;34m=\u001b[0m \u001b[0mthomas\u001b[0m\u001b[0;34m(\u001b[0m\u001b[0ma\u001b[0m\u001b[0;34m,\u001b[0m \u001b[0mb\u001b[0m\u001b[0;34m,\u001b[0m \u001b[0mc\u001b[0m\u001b[0;34m,\u001b[0m \u001b[0md\u001b[0m\u001b[0;34m)\u001b[0m\u001b[0;34m\u001b[0m\u001b[0;34m\u001b[0m\u001b[0m\n\u001b[0;32m---> 15\u001b[0;31m \u001b[0;32massert\u001b[0m \u001b[0mnp\u001b[0m\u001b[0;34m.\u001b[0m\u001b[0mallclose\u001b[0m\u001b[0;34m(\u001b[0m\u001b[0mx\u001b[0m\u001b[0;34m,\u001b[0m\u001b[0mxtheo\u001b[0m\u001b[0;34m)\u001b[0m\u001b[0;34m,\u001b[0m \u001b[0;34m\"the function `thomas` is incorrect\"\u001b[0m\u001b[0;34m\u001b[0m\u001b[0;34m\u001b[0m\u001b[0m\n\u001b[0m\u001b[1;32m     16\u001b[0m \u001b[0mprint\u001b[0m\u001b[0;34m(\u001b[0m\u001b[0;34m\"Residu\"\u001b[0m\u001b[0;34m,\u001b[0m \u001b[0mnp\u001b[0m\u001b[0;34m.\u001b[0m\u001b[0msum\u001b[0m\u001b[0;34m(\u001b[0m\u001b[0mnp\u001b[0m\u001b[0;34m.\u001b[0m\u001b[0mabs\u001b[0m\u001b[0;34m(\u001b[0m\u001b[0mx\u001b[0m \u001b[0;34m-\u001b[0m \u001b[0mxtheo\u001b[0m\u001b[0;34m)\u001b[0m\u001b[0;34m)\u001b[0m\u001b[0;34m)\u001b[0m\u001b[0;34m\u001b[0m\u001b[0;34m\u001b[0m\u001b[0m\n",
      "\u001b[0;31mAssertionError\u001b[0m: the function `thomas` is incorrect"
     ]
    }
   ],
   "source": [
    "\"\"\"Verification of the function\n",
    "We generate a random tri-diagnonal $A$ matrix as well as a random solution $x_{theo}$,\n",
    "and calculate the source therm `b` that solve $A x_{theo} = b$ \"\"\"\n",
    "\n",
    "def tridiag(a, b, c, k1=-1, k2=0, k3=1):\n",
    "    \"\"\"Return a tridiagonal matrix \"\"\"\n",
    "    return np.diag(a[1:], k1) + np.diag(b, k2) + np.diag(c[:-1], k3)\n",
    "\n",
    "N = 40\n",
    "a, b, c, xtheo = [ np.random.rand(N) for i in range(4)]\n",
    "A = tridiag(a, b, c)\n",
    "d = A.dot(xtheo)\n",
    "\n",
    "x = thomas(a, b, c, d)\n",
    "assert np.allclose(x,xtheo), \"the function `thomas` is incorrect\"\n",
    "print(\"Residu\", np.sum(np.abs(x - xtheo)))"
   ]
  },
  {
   "cell_type": "markdown",
   "metadata": {},
   "source": [
    "# Performances\n",
    "In this section, we will discuss of the performances of the solver. \n",
    "## Complexity\n",
    "Use the magic command `%timeit` (one line) or `%%timeit` (whole cell) to time the execution of the solver.\n",
    "Analyze the evolution of the time taken to solve the equation for various values of $N$, and comment the results.\n",
    "\n",
    "Please save your time values in an array before ploting a figure or commenting it, as it may depend on the computer used.\n",
    "\n",
    "(You can also profile the time needed to generate the vectors `a,b,c` and `xtheo` and subtract it from the `solve` function to better profile the `thomas` function)"
   ]
  },
  {
   "cell_type": "code",
   "execution_count": 14,
   "metadata": {
    "ExecuteTime": {
     "end_time": "2018-11-19T09:01:57.094734Z",
     "start_time": "2018-11-19T09:01:57.084456Z"
    }
   },
   "outputs": [],
   "source": [
    "def solve(N):\n",
    "    a, b, c, xtheo = [ np.random.rand(N) for i in range(4)]\n",
    "    A = tridiag(a, b, c)\n",
    "    d = A.dot(xtheo)\n",
    "\n",
    "    x = thomas(a, b, c, d)"
   ]
  },
  {
   "cell_type": "code",
   "execution_count": 15,
   "metadata": {
    "ExecuteTime": {
     "end_time": "2018-11-19T09:01:57.106197Z",
     "start_time": "2018-11-19T09:01:57.097051Z"
    },
    "jupyter": {
     "source_hidden": true
    }
   },
   "outputs": [
    {
     "data": {
      "text/plain": [
       "'Time the call to the functions solve for various values of N'"
      ]
     },
     "execution_count": 15,
     "metadata": {},
     "output_type": "execute_result"
    }
   ],
   "source": [
    "\"\"\"Time the call to the functions solve for various values of N\"\"\"\n",
    "# Your code here"
   ]
  },
  {
   "cell_type": "code",
   "execution_count": 16,
   "metadata": {},
   "outputs": [
    {
     "data": {
      "text/plain": [
       "'matplolib figure here'"
      ]
     },
     "execution_count": 16,
     "metadata": {},
     "output_type": "execute_result"
    }
   ],
   "source": [
    "\"\"\"matplolib figure here\"\"\""
   ]
  },
  {
   "cell_type": "markdown",
   "metadata": {},
   "source": [
    "_____________\n",
    "Your comments here\n",
    "_____________"
   ]
  },
  {
   "cell_type": "markdown",
   "metadata": {},
   "source": [
    "## Precision\n",
    "\n",
    "For the same values of $N$, calculate the error and plot it.\n",
    "Conclude."
   ]
  },
  {
   "cell_type": "code",
   "execution_count": 17,
   "metadata": {
    "ExecuteTime": {
     "end_time": "2018-11-19T09:01:57.106197Z",
     "start_time": "2018-11-19T09:01:57.097051Z"
    }
   },
   "outputs": [
    {
     "data": {
      "text/plain": [
       "' compute the error for various values of N'"
      ]
     },
     "execution_count": 17,
     "metadata": {},
     "output_type": "execute_result"
    }
   ],
   "source": [
    "\"\"\" compute the error for various values of N\"\"\"\n",
    "# Your code here"
   ]
  },
  {
   "cell_type": "code",
   "execution_count": 18,
   "metadata": {},
   "outputs": [
    {
     "data": {
      "text/plain": [
       "'matplolib figure here'"
      ]
     },
     "execution_count": 18,
     "metadata": {},
     "output_type": "execute_result"
    }
   ],
   "source": [
    "\"\"\"matplolib figure here\"\"\""
   ]
  },
  {
   "cell_type": "markdown",
   "metadata": {},
   "source": [
    "_____________\n",
    "Your comments here\n",
    "_____________"
   ]
  },
  {
   "cell_type": "markdown",
   "metadata": {},
   "source": [
    "# Libraries\n",
    "Solving a linear system is a common common problem. Hence, most of the time, we can find libraries that will do the job for us.\n",
    "In python, those can be found the in `scipy.linalg` module, which mostly uses the `LAPACK` fortran library.\n",
    "\n",
    "1. Import the function `solve` of `scipy`, and use it.\n",
    "2. Which numerical method uses the function `solve` ? (direct, iterative, SOR, ... ? You can use the documentation online)\n",
    "3. Try different values for the `assume_a` argument of the function `solve`. What are the effects and why ?\n",
    "4. `scipy` also have a `sparce.linalg` module, optimized for parse linear system. Use it, and compare its performance with the other methods. (**optional question**)\n"
   ]
  },
  {
   "cell_type": "code",
   "execution_count": 19,
   "metadata": {
    "ExecuteTime": {
     "end_time": "2018-11-19T09:02:25.576854Z",
     "start_time": "2018-11-19T09:02:25.567508Z"
    }
   },
   "outputs": [
    {
     "data": {
      "text/plain": [
       "'using solve'"
      ]
     },
     "execution_count": 19,
     "metadata": {},
     "output_type": "execute_result"
    }
   ],
   "source": [
    "\"\"\"using solve\"\"\"\n",
    "# Your code here\n"
   ]
  },
  {
   "cell_type": "code",
   "execution_count": 20,
   "metadata": {
    "ExecuteTime": {
     "end_time": "2018-11-19T09:02:25.595800Z",
     "start_time": "2018-11-19T09:02:25.578589Z"
    }
   },
   "outputs": [
    {
     "data": {
      "text/plain": [
       "'using sparce solve (optional)'"
      ]
     },
     "execution_count": 20,
     "metadata": {},
     "output_type": "execute_result"
    }
   ],
   "source": [
    "\"\"\"using sparce solve (optional)\"\"\"\n",
    "# your code here\n"
   ]
  },
  {
   "cell_type": "markdown",
   "metadata": {},
   "source": [
    "_____________\n",
    "Your comments here\n",
    "_____________"
   ]
  },
  {
   "cell_type": "markdown",
   "metadata": {},
   "source": [
    "# Efficiency in python\n",
    "\n",
    "The \"home made\" `thomas` function is very slow compared to the others because the `for` loop is slow in python compared to compiled language like `C++` (the main language of `scipy` or `numpy`) or `Fortran` (the language of `LAPACK`). \n",
    "\n",
    "Several methods can be used to improve the efficiency of python codes, like:\n",
    "* _vectorizing_ the code, that is writing it as matrix operations and using `numpy` for matrix product.\n",
    "* Using `Cython`, a compiled version of python, but this is almost as using another language like `C`.\n",
    "* _JITing_ the code, with `numba`. `numba` will perfom an analysis of the code, and compile it if possible. For more information, see [Just In Time compilation (jit)](https://en.wikipedia.org/wiki/Just-in-time_compilation)\n",
    "\n",
    "Unfortunatly, the Thomas algorithm cannot be vectorized.\n",
    "Here, we will just use `numba`, which is quite simple to use in our case."
   ]
  },
  {
   "cell_type": "code",
   "execution_count": 21,
   "metadata": {
    "ExecuteTime": {
     "end_time": "2018-11-19T09:02:25.741175Z",
     "start_time": "2018-11-19T09:02:25.597748Z"
    }
   },
   "outputs": [],
   "source": [
    "from numba import jit\n",
    "thomas_jited = jit(thomas)"
   ]
  },
  {
   "cell_type": "code",
   "execution_count": 22,
   "metadata": {
    "ExecuteTime": {
     "end_time": "2018-11-19T09:02:29.619031Z",
     "start_time": "2018-11-19T09:02:25.742733Z"
    },
    "scrolled": true
   },
   "outputs": [
    {
     "name": "stdout",
     "output_type": "stream",
     "text": [
      "The slowest run took 24.38 times longer than the fastest. This could mean that an intermediate result is being cached.\n",
      "1.14 ms ± 2.08 ms per loop (mean ± std. dev. of 7 runs, 1 loop each)\n",
      "179 µs ± 28.8 µs per loop (mean ± std. dev. of 7 runs, 1000 loops each)\n"
     ]
    }
   ],
   "source": [
    "def solve_jited(N):\n",
    "    a, b, c, xtheo = [ np.random.rand(N) for i in range(4)]\n",
    "    A = tridiag(a, b, c)\n",
    "    d = A.dot(xtheo)\n",
    "\n",
    "    x = thomas_jited(a, b, c, d)\n",
    "\n",
    "%timeit solve_jited(N=100)\n",
    "%timeit solve(N=100)\n",
    "\n"
   ]
  },
  {
   "cell_type": "markdown",
   "metadata": {},
   "source": [
    "_____________\n",
    "Your comments here\n",
    "_____________"
   ]
  },
  {
   "cell_type": "code",
   "execution_count": null,
   "metadata": {},
   "outputs": [],
   "source": []
  }
 ],
 "metadata": {
  "kernelspec": {
   "display_name": "Python 3",
   "language": "python",
   "name": "python3"
  },
  "language_info": {
   "codemirror_mode": {
    "name": "ipython",
    "version": 3
   },
   "file_extension": ".py",
   "mimetype": "text/x-python",
   "name": "python",
   "nbconvert_exporter": "python",
   "pygments_lexer": "ipython3",
   "version": "3.8.6"
  },
  "latex_envs": {
   "LaTeX_envs_menu_present": true,
   "autoclose": true,
   "autocomplete": false,
   "bibliofile": "biblio.bib",
   "cite_by": "apalike",
   "current_citInitial": 1,
   "eqLabelWithNumbers": true,
   "eqNumInitial": 1,
   "hotkeys": {
    "equation": "Ctrl-E",
    "itemize": "Ctrl-I"
   },
   "labels_anchors": false,
   "latex_user_defs": false,
   "report_style_numbering": false,
   "user_envs_cfg": false
  },
  "toc": {
   "base_numbering": 1,
   "nav_menu": {},
   "number_sections": true,
   "sideBar": true,
   "skip_h1_title": false,
   "title_cell": "Table of Contents",
   "title_sidebar": "Contents",
   "toc_cell": false,
   "toc_position": {},
   "toc_section_display": true,
   "toc_window_display": false
  },
  "varInspector": {
   "cols": {
    "lenName": 16,
    "lenType": 16,
    "lenVar": 40
   },
   "kernels_config": {
    "python": {
     "delete_cmd_postfix": "",
     "delete_cmd_prefix": "del ",
     "library": "var_list.py",
     "varRefreshCmd": "print(var_dic_list())"
    },
    "r": {
     "delete_cmd_postfix": ") ",
     "delete_cmd_prefix": "rm(",
     "library": "var_list.r",
     "varRefreshCmd": "cat(var_dic_list()) "
    }
   },
   "types_to_exclude": [
    "module",
    "function",
    "builtin_function_or_method",
    "instance",
    "_Feature"
   ],
   "window_display": false
  }
 },
 "nbformat": 4,
 "nbformat_minor": 4
}
