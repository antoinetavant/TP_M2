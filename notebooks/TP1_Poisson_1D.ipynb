{
 "cells": [
  {
   "cell_type": "code",
   "execution_count": 1,
   "metadata": {},
   "outputs": [
    {
     "name": "stdout",
     "output_type": "stream",
     "text": [
      "Setup complete! You're ready to start question 0.\n"
     ]
    }
   ],
   "source": [
    "import sys\n",
    "sys.path.append(\"../../learntools\")\n",
    "\n",
    "from learntools.core import binder; binder.bind(globals())\n",
    "from learntools.TPM2.ex1 import *\n",
    "print(\"Setup complete! You're ready to start question 0.\")"
   ]
  },
  {
   "cell_type": "markdown",
   "metadata": {},
   "source": [
    "# Poisson equation in 1D\n",
    "\n",
    "Here, we propose to solve the Poisson equation over a 1D domain:\n",
    "\n",
    "$$\n",
    "\\epsilon_0 \\nabla_x  \\left[ \\epsilon_r(x) \\nabla_x V(x) \\right] = - \\rho(x),  0<x<L_x\n",
    "$$"
   ]
  },
  {
   "cell_type": "markdown",
   "metadata": {},
   "source": [
    "# In the plasma between two metallic walls\n",
    "Is this section, we do not model any dielectric material.\n",
    "Hence, we consider $\\epsilon_r(x) = 1$\n",
    "\n",
    "## Exercice 1: Discretisation\n",
    "We discretize the domain $x = [0, L_x]$ in $N$ cells of size $d_x$. The center of each cell is defined by the index $i$.\n",
    "The unknown potential $\\phi(x)$ becomes $V_i$ and the source term $\\rho(x)$ becomes $d_i$.\n",
    "\n",
    "### The volume\n",
    "Find the coeficients $V_{e,i}$, $V_{w,i}$ and $V_{c,i}$ using the _finite volume_ discretisation in 1D:\n",
    "\n",
    "$$\n",
    "V_{e,i} V_{i+1} + V_{w,i} V_{i-1} - V_{c,i} V_{i} = d_i\n",
    "$$\n",
    "\n",
    "Do not take care of the boundary for now."
   ]
  },
  {
   "cell_type": "markdown",
   "metadata": {},
   "source": [
    "_____________\n",
    "Type your answer here\n",
    "______________"
   ]
  },
  {
   "cell_type": "code",
   "execution_count": 5,
   "metadata": {},
   "outputs": [],
   "source": [
    "%load_ext autoreload\n",
    "%autoreload 2"
   ]
  },
  {
   "cell_type": "code",
   "execution_count": 9,
   "metadata": {},
   "outputs": [
    {
     "data": {
      "application/javascript": "parent.postMessage({\"jupyterEvent\": \"custom.exercise_interaction\", \"data\": {\"interactionType\": 2, \"questionType\": 4, \"questionId\": \"0_FiniteVolumeDiscretisation\", \"learnToolsVersion\": \"0.3.4\", \"valueTowardsCompletion\": 0.0, \"failureMessage\": \"\", \"exceptionClass\": \"\", \"trace\": \"\", \"outcomeType\": 4}}, \"*\")",
      "text/plain": [
       "<IPython.core.display.Javascript object>"
      ]
     },
     "metadata": {},
     "output_type": "display_data"
    },
    {
     "data": {
      "text/markdown": [
       "<span style=\"color:#3366cc\">Hint:</span> Two answer this question, use the Latex langage for equations (you can look that the other equations in the notebooks by double-cliking on the markdown cells)\n",
       "\n",
       "I expect in the question the diffinitions of $V_{e,i}$ (and other) as function of $d_x$ the cell size, and XXX\n",
       "    "
      ],
      "text/plain": [
       "Hint: Two answer this question, use the Latex langage for equations (you can look that the other equations in the notebooks by double-cliking on the markdown cells)\n",
       "\n",
       "I expect in the question the diffinitions of $V_{e,i}$ (and other) as function of $d_x$ the cell size, and XXX\n",
       "    "
      ]
     },
     "metadata": {},
     "output_type": "display_data"
    }
   ],
   "source": [
    "q0.hint()  # Uncomment this line to have access to the hint"
   ]
  },
  {
   "cell_type": "markdown",
   "metadata": {},
   "source": [
    "### The boundary conditions\n",
    "The center of the cell $i=1$ correspond to $x=0$, and $i = N$ correspond to $x=L_x$.\n",
    "Write the equation for $V_1$ and $V_N$ for the following cases:\n",
    "1. Dirichlet condition: the anode in $i=1$ is at a voltage of $U_a$ and the cathode in $i=N$ at $U_c$\n",
    "2. Neumann condition: no electric field at the anode nor the cathode\n",
    "3. Periodic conditions\n"
   ]
  },
  {
   "cell_type": "markdown",
   "metadata": {},
   "source": [
    "_____________\n",
    "Type your answer here for the 3 cases\n",
    "______________"
   ]
  },
  {
   "cell_type": "markdown",
   "metadata": {},
   "source": [
    "\n",
    "### Linear system\n",
    "Summarize the discretised Poisson equation by expressing the matrix $A$ and the vector $d$, such that $A\\cdot V = d$ in the case of the Dirichlet condition, with $V$ the unkown vector $V=\\{V_i\\}_{1<i<N}$."
   ]
  },
  {
   "cell_type": "markdown",
   "metadata": {},
   "source": [
    "_____________\n",
    "Type your answer here\n",
    "______________"
   ]
  },
  {
   "cell_type": "markdown",
   "metadata": {},
   "source": [
    "## Resolution of the linear equation\n",
    "\n",
    "Complete the function `thomas` below to solve the following tridiagonal system :\n",
    "\\begin{equation}\\label{tridiagonal}\n",
    "   \\begin{bmatrix}\n",
    "    b_1&c_1&      &       &       &        \\\\\n",
    "    a_2&b_2& c_{2}&       &       &        \\\\\n",
    "       &a_3& b_{3}&c_{3}  &       &        \\\\\n",
    "       &   &\\ddots&\\ddots &\\ddots &        \\\\\n",
    "       &   &      &a_{N-1}&b_{N-1}& c_{N-1}\\\\\n",
    "       &   &      &       &a_N    & b_{N}\n",
    "\\end{bmatrix}\\cdot\\begin{bmatrix}\n",
    "    V_1 \\\\ V_2 \\\\ V_3 \\\\ \\dots \\\\ V_{N-1} \\\\ V_N    \n",
    "\\end{bmatrix}=\\begin{bmatrix}\n",
    "    d_1  \\\\ d_2  \\\\ d_3  \\\\ \\dots \\\\ d_{N-1} \\\\ d_N      \n",
    "\\end{bmatrix}\n",
    "\\end{equation}\n",
    "\n",
    "The Thomas algorithm can be found [here](https://en.wikipedia.org/wiki/Tridiagonal_matrix_algorithm). \n",
    "There are two methode proposed: one  using other vectors (noted $c'$ etc.), and another \"in place\" (the input vector are changed). \n",
    "\n",
    "Please use the 1st method."
   ]
  },
  {
   "cell_type": "code",
   "execution_count": 1,
   "metadata": {
    "ExecuteTime": {
     "end_time": "2018-11-19T10:29:56.358648Z",
     "start_time": "2018-11-19T10:29:56.244336Z"
    }
   },
   "outputs": [],
   "source": [
    "import numpy as np"
   ]
  },
  {
   "cell_type": "code",
   "execution_count": 2,
   "metadata": {
    "ExecuteTime": {
     "end_time": "2018-11-19T10:29:56.376087Z",
     "start_time": "2018-11-19T10:29:56.361206Z"
    }
   },
   "outputs": [],
   "source": [
    "def thomas(a, b, c, d):\n",
    "    \"\"\"arguments: a,b,c and d, four vector of same size\n",
    "    Return x a vector of the same size of a\"\"\"\n",
    "    \n",
    "    N = len(a)\n",
    "    \"Verifying that the inputs are correct\"\n",
    "    assert len(b)== N and len(c) == N and len(d) == N, \"the arguments are not of the same lenght\"\n",
    "    \n",
    "    V = np.zeros_like(a)\n",
    "    \n",
    "    #~~~~~~~~~~~~~~~~~~~~~~~~\n",
    "    # Write your code here\n",
    "    #~~~~~~~~~~~~~~~~~~~~~~~~\n",
    "    \n",
    "    return V"
   ]
  },
  {
   "cell_type": "code",
   "execution_count": 3,
   "metadata": {
    "ExecuteTime": {
     "end_time": "2018-11-19T10:29:56.448334Z",
     "start_time": "2018-11-19T10:29:56.435077Z"
    }
   },
   "outputs": [
    {
     "ename": "AssertionError",
     "evalue": "the function `thomas` is incorrect",
     "output_type": "error",
     "traceback": [
      "\u001b[0;31m---------------------------------------------------------------------------\u001b[0m",
      "\u001b[0;31mAssertionError\u001b[0m                            Traceback (most recent call last)",
      "\u001b[0;32m<ipython-input-3-cff738fedbd8>\u001b[0m in \u001b[0;36m<module>\u001b[0;34m\u001b[0m\n\u001b[1;32m     13\u001b[0m \u001b[0;34m\u001b[0m\u001b[0m\n\u001b[1;32m     14\u001b[0m \u001b[0mx\u001b[0m \u001b[0;34m=\u001b[0m \u001b[0mthomas\u001b[0m\u001b[0;34m(\u001b[0m\u001b[0ma\u001b[0m\u001b[0;34m,\u001b[0m \u001b[0mb\u001b[0m\u001b[0;34m,\u001b[0m \u001b[0mc\u001b[0m\u001b[0;34m,\u001b[0m \u001b[0md\u001b[0m\u001b[0;34m)\u001b[0m\u001b[0;34m\u001b[0m\u001b[0;34m\u001b[0m\u001b[0m\n\u001b[0;32m---> 15\u001b[0;31m \u001b[0;32massert\u001b[0m \u001b[0mnp\u001b[0m\u001b[0;34m.\u001b[0m\u001b[0mallclose\u001b[0m\u001b[0;34m(\u001b[0m\u001b[0mx\u001b[0m\u001b[0;34m,\u001b[0m\u001b[0mxtheo\u001b[0m\u001b[0;34m)\u001b[0m\u001b[0;34m,\u001b[0m \u001b[0;34m\"the function `thomas` is incorrect\"\u001b[0m\u001b[0;34m\u001b[0m\u001b[0;34m\u001b[0m\u001b[0m\n\u001b[0m\u001b[1;32m     16\u001b[0m \u001b[0mprint\u001b[0m\u001b[0;34m(\u001b[0m\u001b[0;34m\"Residu\"\u001b[0m\u001b[0;34m,\u001b[0m \u001b[0mnp\u001b[0m\u001b[0;34m.\u001b[0m\u001b[0msum\u001b[0m\u001b[0;34m(\u001b[0m\u001b[0mnp\u001b[0m\u001b[0;34m.\u001b[0m\u001b[0mabs\u001b[0m\u001b[0;34m(\u001b[0m\u001b[0mx\u001b[0m \u001b[0;34m-\u001b[0m \u001b[0mxtheo\u001b[0m\u001b[0;34m)\u001b[0m\u001b[0;34m)\u001b[0m\u001b[0;34m)\u001b[0m\u001b[0;34m\u001b[0m\u001b[0;34m\u001b[0m\u001b[0m\n",
      "\u001b[0;31mAssertionError\u001b[0m: the function `thomas` is incorrect"
     ]
    }
   ],
   "source": [
    "\"\"\"Verification of the function\n",
    "We generate a random tri-diagnonal $A$ matrix as well as a random solution $x_{theo}$,\n",
    "and calculate the source therm `b` that solve $A x_{theo} = b$ \"\"\"\n",
    "\n",
    "def tridiag(a, b, c, k1=-1, k2=0, k3=1):\n",
    "    \"\"\"Return a tridiagonal matrix \"\"\"\n",
    "    return np.diag(a[1:], k1) + np.diag(b, k2) + np.diag(c[:-1], k3)\n",
    "\n",
    "N = 40\n",
    "a, b, c, xtheo = [ np.random.rand(N) for i in range(4)]\n",
    "A = tridiag(a, b, c)\n",
    "d = A.dot(xtheo)\n",
    "\n",
    "x = thomas(a, b, c, d)\n",
    "assert np.allclose(x,xtheo), \"the function `thomas` is incorrect\"\n",
    "print(\"Residu\", np.sum(np.abs(x - xtheo)))"
   ]
  },
  {
   "cell_type": "markdown",
   "metadata": {},
   "source": [
    "## Solving the Poisson equation with Thomas' algorithm for 2 very simple source terms\n",
    "\n",
    "Use the `thomas` function you have written to solve the poisson equation of question 2.1.3 for the different cases:\n",
    "1. No charge density ($\\rho = 0$)\n",
    "1. Uniform charge density ($\\rho = 1$)\n",
    "\n",
    "For each case, plot the results using `matplotlib.pyplot`, and analyse the results briefly\n"
   ]
  },
  {
   "cell_type": "code",
   "execution_count": 4,
   "metadata": {
    "ExecuteTime": {
     "end_time": "2018-11-19T10:29:56.659280Z",
     "start_time": "2018-11-19T10:29:56.449882Z"
    }
   },
   "outputs": [],
   "source": [
    "import matplotlib.pyplot as plt\n",
    "%matplotlib inline\n",
    "plt.style.use('./presentation.mplstyle')  # improve the matplotlib figure with custom style"
   ]
  },
  {
   "cell_type": "markdown",
   "metadata": {},
   "source": [
    "**1. No charge density**"
   ]
  },
  {
   "cell_type": "code",
   "execution_count": 5,
   "metadata": {
    "ExecuteTime": {
     "end_time": "2019-11-18T08:09:45.587737Z",
     "start_time": "2019-11-18T08:09:45.579672Z"
    }
   },
   "outputs": [],
   "source": [
    "Ua = 10  # Anode potential\n",
    "Uc = 0   # Cathode potential\n",
    "N = 50   # Number of points that discretize the domain\n",
    "Lx = 1   # size of the domain"
   ]
  },
  {
   "cell_type": "code",
   "execution_count": 6,
   "metadata": {
    "ExecuteTime": {
     "end_time": "2018-11-19T10:29:56.677254Z",
     "start_time": "2018-11-19T10:29:56.668120Z"
    }
   },
   "outputs": [
    {
     "data": {
      "text/plain": [
       "' No charge density: resolution'"
      ]
     },
     "execution_count": 6,
     "metadata": {},
     "output_type": "execute_result"
    }
   ],
   "source": [
    "\"\"\" No charge density: resolution\"\"\"\n",
    "\n",
    "# write your code here"
   ]
  },
  {
   "cell_type": "code",
   "execution_count": 7,
   "metadata": {
    "ExecuteTime": {
     "end_time": "2018-11-19T10:29:56.879480Z",
     "start_time": "2018-11-19T10:29:56.679428Z"
    }
   },
   "outputs": [
    {
     "data": {
      "image/png": "[encoded data removed]",
      "text/plain": [
       "<Figure size 500x300 with 1 Axes>"
      ]
     },
     "metadata": {
      "needs_background": "light"
     },
     "output_type": "display_data"
    }
   ],
   "source": [
    "\"\"\"No charge density: results\"\"\"\n",
    "plt.figure(figsize=(5,3))\n",
    "plt.title(\"Plasma potential \\n with no charge density\")\n",
    "plt.ylabel(\"Potential [V]\")\n",
    "plt.xlabel(\"Position x\")\n",
    "plt.tight_layout()\n",
    "# Genergate the figure here"
   ]
  },
  {
   "cell_type": "markdown",
   "metadata": {},
   "source": [
    "**1. Uniform charge density**"
   ]
  },
  {
   "cell_type": "code",
   "execution_count": 8,
   "metadata": {
    "ExecuteTime": {
     "end_time": "2018-11-19T10:29:56.884573Z",
     "start_time": "2018-11-19T10:29:56.881530Z"
    }
   },
   "outputs": [],
   "source": [
    "b = np.ones(N)  # source therm"
   ]
  },
  {
   "cell_type": "code",
   "execution_count": 9,
   "metadata": {
    "ExecuteTime": {
     "end_time": "2018-11-19T10:29:56.896782Z",
     "start_time": "2018-11-19T10:29:56.886587Z"
    }
   },
   "outputs": [
    {
     "data": {
      "text/plain": [
       "' Uniform charge density: resolution'"
      ]
     },
     "execution_count": 9,
     "metadata": {},
     "output_type": "execute_result"
    }
   ],
   "source": [
    "\"\"\" Uniform charge density: resolution\"\"\"\n",
    "\n",
    "# write your code here"
   ]
  },
  {
   "cell_type": "code",
   "execution_count": 10,
   "metadata": {
    "ExecuteTime": {
     "end_time": "2018-11-19T10:29:57.091969Z",
     "start_time": "2018-11-19T10:29:56.902768Z"
    }
   },
   "outputs": [
    {
     "data": {
      "image/png": "[encoded data removed]",
      "text/plain": [
       "<Figure size 500x300 with 1 Axes>"
      ]
     },
     "metadata": {
      "needs_background": "light"
     },
     "output_type": "display_data"
    }
   ],
   "source": [
    "\"\"\"No charge density: results\"\"\"\n",
    "plt.figure(figsize=(5,3))\n",
    "plt.title(\"Plasma potential \\n with a uniform charge density\")\n",
    "plt.ylabel(\"Potential [V]\")\n",
    "plt.xlabel(\"Position x\")\n",
    "plt.tight_layout()\n",
    "# Genergate the figure here"
   ]
  },
  {
   "cell_type": "markdown",
   "metadata": {},
   "source": [
    "# Use of a manufactured solution : a method to test the solver for a more complex source term\n",
    "\n",
    "In order to validate the solver, the usual approach is to use a _manufactured solution_ : first, an analytical potential is chosen (which matches the boundary conditions). With this chosen potential, the analytical calculation of the left hand side of Poisson's equation is carried out to derive the analytical expression of the source term. To check the solver, the analytical source term is implemented and we check if the calculated potential is equal to the initial analytical potentiel chosen initially. \n",
    "This is an efficient way to check the solver for conditions closer to those encountered during the plasma simulations.\n",
    "\n",
    "In this section, we propose to test this method.\n",
    "\n",
    "1. Choose an arbitrary analytical solution $\\phi_{theo}(x)$ (using a trigonometric function, polynoms or anything else)\n",
    "2. Find $\\rho_{theo}(x) = - \\epsilon_0 \\Delta_x \\phi_{theo}(x)$ \n",
    "3. Solve $\\phi_{num}$ using the `thomas` function, and compare it to $\\phi_{theo}$\n"
   ]
  },
  {
   "cell_type": "code",
   "execution_count": null,
   "metadata": {
    "ExecuteTime": {
     "end_time": "2018-11-19T10:29:57.107744Z",
     "start_time": "2018-11-19T10:29:57.098937Z"
    }
   },
   "outputs": [],
   "source": [
    "def phi_theo(x):\n",
    "    \"\"\"your defined solution\"\"\"\n",
    "    # your code here\n",
    "    return phi\n",
    "    \n",
    "def rho_theo(x):\n",
    "    \"\"\"your defined source term\"\"\"\n",
    "    # your code here\n",
    "    return rho"
   ]
  },
  {
   "cell_type": "code",
   "execution_count": null,
   "metadata": {
    "ExecuteTime": {
     "end_time": "2018-11-19T10:29:57.123066Z",
     "start_time": "2018-11-19T10:29:57.115497Z"
    }
   },
   "outputs": [],
   "source": [
    "\"\"\"Solving phi for rho_theo\"\"\"\n",
    "# your code here"
   ]
  },
  {
   "cell_type": "markdown",
   "metadata": {
    "ExecuteTime": {
     "end_time": "2018-11-19T08:54:07.782421Z",
     "start_time": "2018-11-19T08:54:07.774731Z"
    }
   },
   "source": [
    "_____________________________\n",
    "Your comments here\n",
    "______________________"
   ]
  },
  {
   "cell_type": "markdown",
   "metadata": {},
   "source": [
    "# Calculation of the electric field\n",
    "\n",
    "**optional question : please proced to TP2 and TP3 if you don't have time for these questions**\n",
    "\n",
    "For plasma simulations, the key quantity for the transport of charges particles and electron-impact reaction rate coefficients is the electric field. Therefore it is important to derive the electric field from the potential.\n",
    "\n",
    "We need to calculate the electric field at different locations : at the interface between the cells (for transport terms) **and** at the center of the cells (for source terms).\n",
    "\n",
    "In this section, you have to derive the electric field at both locations for the test-case of the previous section ( with the manufactured solution). Compare your results on the electric field with the one you can derive directly analytically.\n"
   ]
  },
  {
   "cell_type": "code",
   "execution_count": null,
   "metadata": {
    "ExecuteTime": {
     "end_time": "2018-11-19T13:18:14.519617Z",
     "start_time": "2018-11-19T13:18:14.499017Z"
    }
   },
   "outputs": [],
   "source": [
    "\"\"\"Electric field at the interfaces between the cells\"\"\"\n",
    "# Your code here\n"
   ]
  },
  {
   "cell_type": "code",
   "execution_count": null,
   "metadata": {
    "ExecuteTime": {
     "end_time": "2018-11-19T13:18:24.444306Z",
     "start_time": "2018-11-19T13:18:24.432006Z"
    }
   },
   "outputs": [],
   "source": [
    "\"\"\"Electric field at the center of the cells\"\"\"\n",
    "# Your code here\n"
   ]
  },
  {
   "cell_type": "code",
   "execution_count": null,
   "metadata": {},
   "outputs": [],
   "source": []
  }
 ],
 "metadata": {
  "interpreter": {
   "hash": "767d51c1340bd893661ea55ea3124f6de3c7a262a8b4abca0554b478b1e2ff90"
  },
  "kernelspec": {
   "display_name": "Python 3.9.6 64-bit",
   "name": "python3"
  },
  "language_info": {
   "codemirror_mode": {
    "name": "ipython",
    "version": 3
   },
   "file_extension": ".py",
   "mimetype": "text/x-python",
   "name": "python",
   "nbconvert_exporter": "python",
   "pygments_lexer": "ipython3",
   "version": "3.9.6"
  },
  "latex_envs": {
   "LaTeX_envs_menu_present": true,
   "autoclose": true,
   "autocomplete": false,
   "bibliofile": "biblio.bib",
   "cite_by": "apalike",
   "current_citInitial": 1,
   "eqLabelWithNumbers": true,
   "eqNumInitial": 1,
   "hotkeys": {
    "equation": "Ctrl-E",
    "itemize": "Ctrl-I"
   },
   "labels_anchors": false,
   "latex_user_defs": false,
   "report_style_numbering": false,
   "user_envs_cfg": false
  },
  "toc": {
   "base_numbering": 1,
   "nav_menu": {},
   "number_sections": true,
   "sideBar": true,
   "skip_h1_title": false,
   "title_cell": "Table of Contents",
   "title_sidebar": "Contents",
   "toc_cell": false,
   "toc_position": {},
   "toc_section_display": true,
   "toc_window_display": false
  },
  "varInspector": {
   "cols": {
    "lenName": 16,
    "lenType": 16,
    "lenVar": 40
   },
   "kernels_config": {
    "python": {
     "delete_cmd_postfix": "",
     "delete_cmd_prefix": "del ",
     "library": "var_list.py",
     "varRefreshCmd": "print(var_dic_list())"
    },
    "r": {
     "delete_cmd_postfix": ") ",
     "delete_cmd_prefix": "rm(",
     "library": "var_list.r",
     "varRefreshCmd": "cat(var_dic_list()) "
    }
   },
   "types_to_exclude": [
    "module",
    "function",
    "builtin_function_or_method",
    "instance",
    "_Feature"
   ],
   "window_display": false
  }
 },
 "nbformat": 4,
 "nbformat_minor": 4
}