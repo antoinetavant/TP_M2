{
 "cells": [
  {
   "cell_type": "code",
   "execution_count": 31,
   "source": [
    "! pip install -q pandas astropy TPM2PPF_learntools matplotlib numpy"
   ],
   "outputs": [],
   "metadata": {}
  },
  {
   "cell_type": "code",
   "execution_count": 32,
   "source": [
    "from TPM2PPF_learntools.core import binder; binder.bind(globals())\n",
    "from TPM2PPF_learntools.TPM2.ex1 import *\n",
    "print(\"Setup complete! You're ready to start question 1.\")\n",
    "\n",
    "%load_ext autoreload\n",
    "%autoreload 2"
   ],
   "outputs": [
    {
     "output_type": "stream",
     "name": "stderr",
     "text": [
      "WARNING:root:Ignoring repeated attempt to bind to globals\n"
     ]
    },
    {
     "output_type": "stream",
     "name": "stdout",
     "text": [
      "Setup complete! You're ready to start question 1.\n",
      "The autoreload extension is already loaded. To reload it, use:\n",
      "  %reload_ext autoreload\n"
     ]
    }
   ],
   "metadata": {}
  },
  {
   "cell_type": "markdown",
   "source": [
    "# Poisson equation in 1D\n",
    "\n",
    "Here, we propose to solve the Poisson equation over a 1D domain:\n",
    "\n",
    "$$\n",
    "\\epsilon_0 \\nabla_x  \\left[ \\epsilon_r(x) \\nabla_x V(x) \\right] = - \\rho(x),  0<x<L_x\n",
    "$$\n",
    "\n",
    "## System description :\n",
    "\n",
    "Is this section, we do not model any dielectric material.\n",
    "Instead, we consider only the plasma between two metallic walls.\n",
    "\n",
    "Hence, we consider the equation above with $\\epsilon_r(x) = 1$, so the Poisson equation is simplified to :\n",
    "\n",
    "$$  \\Delta_x V(x) = - \\frac{\\rho(x)}{\\epsilon_0} $$"
   ],
   "metadata": {}
  },
  {
   "cell_type": "markdown",
   "source": [
    "\n",
    "\n",
    "# Section 1: Discretisation\n",
    "We discretize the domain $x = [0, L_x]$ in $N$ cells of size $d_x$. The center of each cell is defined by the index $i$.\n",
    "\n",
    "The unknown potential $\\phi(x)$ becomes $V_i$ and the source term $ -\\rho(x) / \\epsilon_0$ becomes $d_i$.\n",
    "\n",
    "## Q1. The volume\n",
    "Find the coeficients $V_{e,i}$, $V_{w,i}$ and $V_{c,i}$ using the _finite volume_ discretisation in 1D:\n",
    "\n",
    "$$\n",
    "V_{e,i} V_{i+1} + V_{w,i} V_{i-1} - V_{c,i} V_{i} = d_i\n",
    "$$\n",
    "\n",
    "Do not take care of the boundary for now."
   ],
   "metadata": {}
  },
  {
   "cell_type": "markdown",
   "source": [
    "_____________\n",
    "Type your answer here\n",
    "______________"
   ],
   "metadata": {}
  },
  {
   "cell_type": "code",
   "execution_count": 33,
   "source": [
    "# q1.hint()  # Uncomment this line to have access to the hint"
   ],
   "outputs": [],
   "metadata": {}
  },
  {
   "cell_type": "markdown",
   "source": [
    "## Q2. The boundary conditions\n",
    "The center of the cell $i=1$ correspond to $x=0$, and $i = N$ correspond to $x=L_x$.\n",
    "Write the equation for $V_1$ and $V_N$ for the following cases:\n",
    "1. Dirichlet condition: the anode in $i=1$ is at a voltage of $U_a$ and the cathode in $i=N$ at $U_c$\n",
    "2. Neumann condition: no electric field at the anode nor the cathode\n",
    "3. Periodic conditions\n"
   ],
   "metadata": {}
  },
  {
   "cell_type": "markdown",
   "source": [
    "_____________\n",
    "Type your answer here for the 3 cases\n",
    "______________"
   ],
   "metadata": {}
  },
  {
   "cell_type": "code",
   "execution_count": 34,
   "source": [
    "# q2.hint()  # Uncomment this line to have access to the hint"
   ],
   "outputs": [],
   "metadata": {}
  },
  {
   "cell_type": "markdown",
   "source": [
    "\n",
    "## Q3. Linear system\n",
    "Summarize the discretised Poisson equation by expressing the matrix $A$ and the vector $d$, such that $A\\cdot V = d$ in the case of the Dirichlet condition, with $V$ the unkown vector $V=\\{V_i\\}_{1<i<N}$."
   ],
   "metadata": {}
  },
  {
   "cell_type": "markdown",
   "source": [
    "_____________\n",
    "Type your answer here\n",
    "______________"
   ],
   "metadata": {}
  },
  {
   "cell_type": "code",
   "execution_count": 35,
   "source": [
    "# q3.hint()  # Uncomment this line to have access to the hint"
   ],
   "outputs": [],
   "metadata": {}
  },
  {
   "cell_type": "markdown",
   "source": [
    "# Section 2: Resolution of the linear equation\n",
    "\n",
    "In this section, we will code an algorithm to solve the discretized linear equation.\n",
    "\n",
    "## Q4. Coding the Thomas Algorythm\n",
    "\n",
    "\n",
    "Complete the function `thomas` below to solve the following tridiagonal system :\n",
    "\n",
    "$$\n",
    "   \\begin{bmatrix}\n",
    "    b_1&c_1&      &       &       &        \\\\\n",
    "    a_2&b_2& c_{2}&       &       &        \\\\\n",
    "       &a_3& b_{3}&c_{3}  &       &        \\\\\n",
    "       &   &\\ddots&\\ddots &\\ddots &        \\\\\n",
    "       &   &      &a_{N-1}&b_{N-1}& c_{N-1}\\\\\n",
    "       &   &      &       &a_N    & b_{N}\n",
    "\\end{bmatrix}\\cdot\\begin{bmatrix}\n",
    "    V_1 \\\\ V_2 \\\\ V_3 \\\\ \\dots \\\\ V_{N-1} \\\\ V_N    \n",
    "\\end{bmatrix}=\\begin{bmatrix}\n",
    "    d_1  \\\\ d_2  \\\\ d_3  \\\\ \\dots \\\\ d_{N-1} \\\\ d_N      \n",
    "\\end{bmatrix}\n",
    "$$\n",
    "\n",
    "The Thomas algorithm can be found [on the Wikipedia page here](https://en.wikipedia.org/wiki/Tridiagonal_matrix_algorithm). \n",
    "\n",
    "There are two methode proposed on the page: one  using other vectors (noted $c'$ etc.), and another \"in place\" (the input vector are changed). \n",
    "\n",
    "Please use the 1st method."
   ],
   "metadata": {}
  },
  {
   "cell_type": "code",
   "execution_count": 36,
   "source": [
    "import numpy as np"
   ],
   "outputs": [],
   "metadata": {
    "ExecuteTime": {
     "end_time": "2018-11-19T10:29:56.358648Z",
     "start_time": "2018-11-19T10:29:56.244336Z"
    }
   }
  },
  {
   "cell_type": "code",
   "execution_count": 37,
   "source": [
    "def thomas(a, b, c, d):\n",
    "    \"\"\"arguments: a,b,c and d, four vector of same size N\n",
    "    Return V a vector of size N\"\"\"\n",
    "    \n",
    "    N = len(a)\n",
    "    \"Verifying that the inputs are correct\"\n",
    "    assert len(b)== N and len(c) == N and len(d) == N, \"the arguments are not of the same lenght\"\n",
    "    \n",
    "    V = np.zeros(N, dtype=np.float)\n",
    "    \n",
    "    #~~~~~~~~~~~~~~~~~~~~~~~~\n",
    "    # Write your code here\n",
    "    #~~~~~~~~~~~~~~~~~~~~~~~~\n",
    "    \n",
    "    return V"
   ],
   "outputs": [],
   "metadata": {
    "ExecuteTime": {
     "end_time": "2018-11-19T10:29:56.376087Z",
     "start_time": "2018-11-19T10:29:56.361206Z"
    }
   }
  },
  {
   "cell_type": "code",
   "execution_count": 38,
   "source": [
    "# q4.hint()  # Uncomment this line to have access to the hint"
   ],
   "outputs": [],
   "metadata": {}
  },
  {
   "cell_type": "code",
   "execution_count": 39,
   "source": [
    "# q4.check()  # run this line to find out if your answer is correct"
   ],
   "outputs": [],
   "metadata": {}
  },
  {
   "cell_type": "markdown",
   "source": [
    "## Q5. Solving the Poisson equation with Thomas' algorithm for 2 very simple source terms\n",
    "\n",
    "Use the `thomas` function you have written to solve the poisson equation of question 2.1.3 for the different cases:\n",
    "1. No charge density ($\\rho = 0$ C/m³)\n",
    "1. Uniform charge density ($\\rho = 10^{-10}$ C/m³)\n",
    "\n",
    "For each cases:\n",
    "- define the vectors `a,b,c` and `d` accordingly\n",
    "- use the `thomas` function to solve for `V`\n",
    "- plot the results using `matplotlib.pyplot`\n",
    "- analyse and discuss the results briefly (is the results acording to what you expect ?)\n"
   ],
   "metadata": {}
  },
  {
   "cell_type": "code",
   "execution_count": 40,
   "source": [
    "import matplotlib.pyplot as plt\n",
    "%matplotlib inline\n",
    "plt.style.use('./presentation.mplstyle')  # improve the matplotlib figure with custom style\n",
    "\n",
    "from astropy.constants import eps0\n",
    "eps0 = eps0.value\n"
   ],
   "outputs": [],
   "metadata": {
    "ExecuteTime": {
     "end_time": "2018-11-19T10:29:56.659280Z",
     "start_time": "2018-11-19T10:29:56.449882Z"
    }
   }
  },
  {
   "cell_type": "markdown",
   "source": [
    "### Q5.a No charge density\n",
    "\n",
    "In this first step, we supose $\\rho = 0$ but the electrodes are with a given potential."
   ],
   "metadata": {}
  },
  {
   "cell_type": "code",
   "execution_count": 41,
   "source": [
    "Ua = 10  # Anode potential in V\n",
    "Uc = 5   # Cathode potential in V\n",
    "N = 50   # Number of points that discretize the domain\n",
    "Lx = 1   # size of the domain in cm"
   ],
   "outputs": [],
   "metadata": {
    "ExecuteTime": {
     "end_time": "2019-11-18T08:09:45.587737Z",
     "start_time": "2019-11-18T08:09:45.579672Z"
    }
   }
  },
  {
   "cell_type": "code",
   "execution_count": 42,
   "source": [
    "\"\"\" No charge density: resolution\"\"\"\n",
    "\n",
    "# Modify the following lines in order to solve for the problem stated\n",
    "a = np.zeros(N)\n",
    "b = np.ones(N)\n",
    "c = np.ones(N)\n",
    "d = np.ones(N)\n",
    "\n",
    "V = thomas(a, b, c, d)\n",
    "\n"
   ],
   "outputs": [],
   "metadata": {
    "ExecuteTime": {
     "end_time": "2018-11-19T10:29:56.677254Z",
     "start_time": "2018-11-19T10:29:56.668120Z"
    }
   }
  },
  {
   "cell_type": "code",
   "execution_count": 43,
   "source": [
    "\"\"\"No charge density: results\"\"\"\n",
    "plt.figure(figsize=(5,3))\n",
    "plt.title(\"Plasma potential \\n with no charge density\")\n",
    "plt.ylabel(\"Potential [V]\")\n",
    "plt.xlabel(\"Position x [cm]\")\n",
    "plt.tight_layout()\n",
    "\n",
    "# Genergate the figure here by adding your solution to the figure"
   ],
   "outputs": [
    {
     "output_type": "display_data",
     "data": {
      "image/png": "[encoded data removed]",
      "text/plain": [
       "<Figure size 500x300 with 1 Axes>"
      ]
     },
     "metadata": {
      "needs_background": "light"
     }
    }
   ],
   "metadata": {
    "ExecuteTime": {
     "end_time": "2018-11-19T10:29:56.879480Z",
     "start_time": "2018-11-19T10:29:56.679428Z"
    }
   }
  },
  {
   "cell_type": "code",
   "execution_count": 44,
   "source": [
    "# q5.a.hint()  # Uncomment to get an hint"
   ],
   "outputs": [],
   "metadata": {}
  },
  {
   "cell_type": "code",
   "execution_count": 45,
   "source": [
    "# q5.a.check()  # Uncomment to see if your answer is good."
   ],
   "outputs": [],
   "metadata": {}
  },
  {
   "cell_type": "markdown",
   "source": [
    "_____________________________\n",
    "Your comments here\n",
    "______________________"
   ],
   "metadata": {
    "ExecuteTime": {
     "end_time": "2018-11-19T08:54:07.782421Z",
     "start_time": "2018-11-19T08:54:07.774731Z"
    }
   }
  },
  {
   "cell_type": "code",
   "execution_count": 46,
   "source": [
    "# q5.a.check()  # Uncomment to find if your answer is good"
   ],
   "outputs": [],
   "metadata": {}
  },
  {
   "cell_type": "markdown",
   "source": [
    "### Q5.b Uniform charge density\n",
    "\n",
    "Now, let's add a uniforme charge density between the two previous electrodes"
   ],
   "metadata": {}
  },
  {
   "cell_type": "code",
   "execution_count": 47,
   "source": [
    "rho = 5e-10 * np.ones(N)  # charge density in C/m³"
   ],
   "outputs": [],
   "metadata": {
    "ExecuteTime": {
     "end_time": "2018-11-19T10:29:56.884573Z",
     "start_time": "2018-11-19T10:29:56.881530Z"
    }
   }
  },
  {
   "cell_type": "code",
   "execution_count": 48,
   "source": [
    "\"\"\" Uniform charge density: resolution\"\"\"\n",
    "# write your code here to take intoo account the charge density"
   ],
   "outputs": [
    {
     "output_type": "execute_result",
     "data": {
      "text/plain": [
       "' Uniform charge density: resolution'"
      ]
     },
     "metadata": {},
     "execution_count": 48
    }
   ],
   "metadata": {
    "ExecuteTime": {
     "end_time": "2018-11-19T10:29:56.896782Z",
     "start_time": "2018-11-19T10:29:56.886587Z"
    }
   }
  },
  {
   "cell_type": "code",
   "execution_count": 49,
   "source": [
    "\"\"\"No charge density: results\"\"\"\n",
    "plt.figure(figsize=(5,3))\n",
    "plt.title(\"Plasma potential \\n with a uniform charge density\")\n",
    "plt.ylabel(\"Potential [V]\")\n",
    "plt.xlabel(\"Position x [cm]\")\n",
    "plt.tight_layout()\n",
    "# Genergate the figure here"
   ],
   "outputs": [
    {
     "output_type": "display_data",
     "data": {
      "image/png": "[encoded data removed]",
      "text/plain": [
       "<Figure size 500x300 with 1 Axes>"
      ]
     },
     "metadata": {
      "needs_background": "light"
     }
    }
   ],
   "metadata": {
    "ExecuteTime": {
     "end_time": "2018-11-19T10:29:57.091969Z",
     "start_time": "2018-11-19T10:29:56.902768Z"
    }
   }
  },
  {
   "cell_type": "markdown",
   "source": [
    "_____________________________\n",
    "Your comments here\n",
    "______________________"
   ],
   "metadata": {
    "ExecuteTime": {
     "end_time": "2018-11-19T08:54:07.782421Z",
     "start_time": "2018-11-19T08:54:07.774731Z"
    }
   }
  },
  {
   "cell_type": "code",
   "execution_count": 50,
   "source": [
    "# q5.b.check()  # Uncomment to find if your answer is good"
   ],
   "outputs": [],
   "metadata": {}
  },
  {
   "cell_type": "markdown",
   "source": [
    "# Section 3: Validation : Use of a manufactured solution :\n",
    "*a method to test the solver for a more complex source term*\n",
    "\n",
    "In order to validate the solver, the usual approach is to use a _manufactured solution_ :\n",
    "\n",
    "1. first, an analytical potential is chosen (which matches the boundary conditions).\n",
    "2. With this chosen potential, the analytical calculation of the left hand side of Poisson's equation is carried out to derive the analytical expression of the source term.\n",
    "3. To check the solver, the analytical source term is implemented and we check if the calculated potential is equal to the initial analytical potentiel chosen initially. \n",
    "\n",
    "This is an efficient way to check the solver for conditions closer to those encountered during the plasma simulations.\n",
    "\n",
    "## Q6. Manufactured solution\n",
    "In this excercice, we propose to test `thomas` using this method:\n",
    "\n",
    "1. Choose an arbitrary analytical solution $\\phi_{theo}(x)$ (using a trigonometric function, polynoms or anything else)\n",
    "2. Find $\\rho_{theo}(x) = - \\epsilon_0 \\Delta_x \\phi_{theo}(x)$ \n",
    "3. Solve $\\phi_{num}$ using the `thomas` function, and compare it to $\\phi_{theo}$\n"
   ],
   "metadata": {}
  },
  {
   "cell_type": "code",
   "execution_count": 51,
   "source": [
    "def phi_theo(x):\n",
    "    \"\"\"your defined solution\"\"\"\n",
    "    # your code here\n",
    "    phi = np.ones( len(x))\n",
    "    return phi\n",
    "    \n",
    "def rho_theo(x):\n",
    "    \"\"\"your defined source term, `x` is a numpy array\"\"\"\n",
    "    # your code here\n",
    "    rho = np.zeros( len(x))\n",
    "    return rho"
   ],
   "outputs": [],
   "metadata": {
    "ExecuteTime": {
     "end_time": "2018-11-19T10:29:57.107744Z",
     "start_time": "2018-11-19T10:29:57.098937Z"
    }
   }
  },
  {
   "cell_type": "code",
   "execution_count": 52,
   "source": [
    "\"\"\"Solving phi for rho_theo\"\"\"\n",
    "# your code here"
   ],
   "outputs": [
    {
     "output_type": "execute_result",
     "data": {
      "text/plain": [
       "'Solving phi for rho_theo'"
      ]
     },
     "metadata": {},
     "execution_count": 52
    }
   ],
   "metadata": {
    "ExecuteTime": {
     "end_time": "2018-11-19T10:29:57.123066Z",
     "start_time": "2018-11-19T10:29:57.115497Z"
    }
   }
  },
  {
   "cell_type": "markdown",
   "source": [
    "_____________________________\n",
    "Your comments here\n",
    "______________________"
   ],
   "metadata": {
    "ExecuteTime": {
     "end_time": "2018-11-19T08:54:07.782421Z",
     "start_time": "2018-11-19T08:54:07.774731Z"
    }
   }
  },
  {
   "cell_type": "code",
   "execution_count": 53,
   "source": [
    "# q6.hint()\n"
   ],
   "outputs": [],
   "metadata": {}
  },
  {
   "cell_type": "code",
   "execution_count": 54,
   "source": [
    "# q6.check() ## uncomment to fin if your solution works"
   ],
   "outputs": [],
   "metadata": {}
  },
  {
   "cell_type": "markdown",
   "source": [
    "# Section BONUS : Calculation of the electric field\n",
    "\n",
    "**optional question : please proced to TP2 and TP3 if you don't have time for these questions**\n",
    "\n",
    "For plasma simulations, the key quantity for the transport of charged particles and electron-impact reaction rate coefficients is the electric field.\n",
    "Therefore, it is important to derive the electric field from the potential.\n",
    "\n",
    "We need to calculate the electric field at different locations : at the interface between the cells (for transport terms) **and** at the center of the cells (for source terms).\n",
    "\n",
    "In this section, you have to derive the electric field at both locations for the test-case of the previous section ( with the manufactured solution). Compare your results on the electric field with the one you can derive directly analytically."
   ],
   "metadata": {}
  },
  {
   "cell_type": "code",
   "execution_count": 55,
   "source": [
    "\"\"\"Electric field at the interfaces between the cells\"\"\"\n",
    "# Your code here\n"
   ],
   "outputs": [
    {
     "output_type": "execute_result",
     "data": {
      "text/plain": [
       "'Electric field at the interfaces between the cells'"
      ]
     },
     "metadata": {},
     "execution_count": 55
    }
   ],
   "metadata": {
    "ExecuteTime": {
     "end_time": "2018-11-19T13:18:14.519617Z",
     "start_time": "2018-11-19T13:18:14.499017Z"
    }
   }
  },
  {
   "cell_type": "code",
   "execution_count": 56,
   "source": [
    "\"\"\"Electric field at the center of the cells\"\"\"\n",
    "# Your code here\n"
   ],
   "outputs": [
    {
     "output_type": "execute_result",
     "data": {
      "text/plain": [
       "'Electric field at the center of the cells'"
      ]
     },
     "metadata": {},
     "execution_count": 56
    }
   ],
   "metadata": {
    "ExecuteTime": {
     "end_time": "2018-11-19T13:18:24.444306Z",
     "start_time": "2018-11-19T13:18:24.432006Z"
    }
   }
  }
 ],
 "metadata": {
  "interpreter": {
   "hash": "767d51c1340bd893661ea55ea3124f6de3c7a262a8b4abca0554b478b1e2ff90"
  },
  "kernelspec": {
   "name": "python3",
   "display_name": "Python 3.9.6 64-bit"
  },
  "latex_envs": {
   "LaTeX_envs_menu_present": true,
   "autoclose": true,
   "autocomplete": false,
   "bibliofile": "biblio.bib",
   "cite_by": "apalike",
   "current_citInitial": 1,
   "eqLabelWithNumbers": true,
   "eqNumInitial": 1,
   "hotkeys": {
    "equation": "Ctrl-E",
    "itemize": "Ctrl-I"
   },
   "labels_anchors": false,
   "latex_user_defs": false,
   "report_style_numbering": false,
   "user_envs_cfg": false
  },
  "toc": {
   "base_numbering": 1,
   "nav_menu": {},
   "number_sections": true,
   "sideBar": true,
   "skip_h1_title": false,
   "title_cell": "Table of Contents",
   "title_sidebar": "Contents",
   "toc_cell": false,
   "toc_position": {},
   "toc_section_display": true,
   "toc_window_display": false
  },
  "varInspector": {
   "cols": {
    "lenName": 16,
    "lenType": 16,
    "lenVar": 40
   },
   "kernels_config": {
    "python": {
     "delete_cmd_postfix": "",
     "delete_cmd_prefix": "del ",
     "library": "var_list.py",
     "varRefreshCmd": "print(var_dic_list())"
    },
    "r": {
     "delete_cmd_postfix": ") ",
     "delete_cmd_prefix": "rm(",
     "library": "var_list.r",
     "varRefreshCmd": "cat(var_dic_list()) "
    }
   },
   "types_to_exclude": [
    "module",
    "function",
    "builtin_function_or_method",
    "instance",
    "_Feature"
   ],
   "window_display": false
  },
  "language_info": {
   "name": "python",
   "version": "3.9.6",
   "mimetype": "text/x-python",
   "codemirror_mode": {
    "name": "ipython",
    "version": 3
   },
   "pygments_lexer": "ipython3",
   "nbconvert_exporter": "python",
   "file_extension": ".py"
  }
 },
 "nbformat": 4,
 "nbformat_minor": 4
}