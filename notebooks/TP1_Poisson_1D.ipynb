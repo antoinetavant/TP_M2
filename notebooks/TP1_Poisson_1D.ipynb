{
 "cells": [
  {
   "cell_type": "markdown",
   "metadata": {},
   "source": [
    "# Poisson equation in 1D\n",
    "\n",
    "Here, we propose to solve the Poisson equation over a 1D domain:\n",
    "\n",
    "\\begin{equation}\\label{eq:problem}\n",
    "\\epsilon_0 \\nabla_x  \\left[ \\epsilon_r(x) \\nabla_x V(x) \\right] = - \\rho(x),  0<x<L_x\n",
    "\\end{equation}\n"
   ]
  },
  {
   "cell_type": "markdown",
   "metadata": {},
   "source": [
    "# In the plasma between two metallic walls\n",
    "Is this section, we do not model any dielectric material.\n",
    "Hence, we consider $\\epsilon_r(x) = 1$\n",
    "\n",
    "## Exercice 1: Discretisation\n",
    "We discretize the domain $x = [0, L_x]$ in $N-1$ cells of size $d_x$. The center of each cell is defined by the index $i$.\n",
    "The unknown potential $\\phi(x)$ becomes $V_i$ and the source term $\\rho(x)$ becomes $\\rho_i$.\n",
    "\n",
    "### The volume\n",
    "Find the coeficients $V_{e,i}$, $V_{w,i}$ and $V_{c,i}$ using the _finite volume_ discretisation in 1D:\n",
    "\\begin{equation}\\label{eq:}\n",
    "V_{e,i} V_{i+1} + V_{w,i} V_{i-1} - V_{c,i} V_{i} = \\rho_i\n",
    "\\end{equation}\n",
    "\n",
    "Do not take care of the boundary for now."
   ]
  },
  {
   "cell_type": "markdown",
   "metadata": {},
   "source": [
    "_____________\n",
    "Type your answer here\n",
    "______________"
   ]
  },
  {
   "cell_type": "markdown",
   "metadata": {},
   "source": [
    "### The boundary conditions\n",
    "The center of the cell $i=1$ correspond to $x=0$, and $i = N$ correspond to $x=L_x$.\n",
    "Write the equation for $V_1$ and $V_N$ for the following cases:\n",
    "1. Dirichlet condition: the anode in $i=1$ is at a voltage of $U_a$ and the cathode in $i=N$ at $U_c$\n",
    "2. Neumann condition: no electric field at the anode nor the cathode\n",
    "3. Periodic conditions\n"
   ]
  },
  {
   "cell_type": "markdown",
   "metadata": {},
   "source": [
    "_____________\n",
    "Type your answer here for the 3 cases\n",
    "______________"
   ]
  },
  {
   "cell_type": "markdown",
   "metadata": {},
   "source": [
    "\n",
    "### Linear system\n",
    "Summarize the discretised Poisson equation by expressing the matrix $A$ and the vector $b$, such that $A\\cdot V = b$ in the case of the Dirichlet condition, with $V$ the unkown vector $V=\\{V_i\\}_{1<i<N}$."
   ]
  },
  {
   "cell_type": "markdown",
   "metadata": {},
   "source": [
    "_____________\n",
    "Type your answer here\n",
    "______________"
   ]
  },
  {
   "cell_type": "markdown",
   "metadata": {},
   "source": [
    "## Resolution\n",
    "\n",
    "Complete the function `thomas` below to solve the following tridiagonal system :\n",
    "\\begin{equation}\\label{tridiagonal}\n",
    "   \\begin{bmatrix}\n",
    "    a_1&b_1&      &       &       &        \\\\\n",
    "    c_2&a_2& b_{2}&       &       &        \\\\\n",
    "       &c_3& a_{3}&b_{3}  &       &        \\\\\n",
    "       &   &\\ddots&\\ddots &\\ddots &        \\\\\n",
    "       &   &      &c_{N-1}&a_{N-1}& b_{N-1}\\\\\n",
    "       &   &      &       &c_N    & a_{N}\n",
    "\\end{bmatrix}\\cdot\\begin{bmatrix}\n",
    "    V_1 \\\\ V_2 \\\\ V_3 \\\\ \\dots \\\\ V_{N-1} \\\\ V_N    \n",
    "\\end{bmatrix}=\\begin{bmatrix}\n",
    "    \\rho_1  \\\\ \\rho_2  \\\\ \\rho_3  \\\\ \\dots \\\\ \\rho_{N-1} \\\\ b_N      \n",
    "\\end{bmatrix}\n",
    "\\end{equation}\n",
    "\n",
    "The Thomas algorithm can be found [here](https://en.wikipedia.org/wiki/Tridiagonal_matrix_algorithm). "
   ]
  },
  {
   "cell_type": "code",
   "execution_count": 11,
   "metadata": {
    "ExecuteTime": {
     "end_time": "2018-11-19T10:29:56.358648Z",
     "start_time": "2018-11-19T10:29:56.244336Z"
    }
   },
   "outputs": [],
   "source": [
    "import numpy as np"
   ]
  },
  {
   "cell_type": "code",
   "execution_count": 12,
   "metadata": {
    "ExecuteTime": {
     "end_time": "2018-11-19T10:29:56.376087Z",
     "start_time": "2018-11-19T10:29:56.361206Z"
    }
   },
   "outputs": [],
   "source": [
    "def thomas(a, b, c, d):\n",
    "    \"\"\"arguments: a,b,c and d, four vector of same size\n",
    "    Return x a vector of the same size of a\"\"\"\n",
    "    \n",
    "    N = len(a)\n",
    "    \"Verifying that the inputs are correct\"\n",
    "    assert len(b)== N and len(c) == N and len(d) == N, \"the arguments are not of the same lenght\"\n",
    "    \n",
    "    x = np.zeros_like(a)\n",
    "    \n",
    "    #~~~~~~~~~~~~~~~~~~~~~~~~\n",
    "    # Write your code here\n",
    "    #~~~~~~~~~~~~~~~~~~~~~~~~\n",
    "    \n",
    "    return x"
   ]
  },
  {
   "cell_type": "code",
   "execution_count": 13,
   "metadata": {
    "ExecuteTime": {
     "end_time": "2018-11-19T10:29:56.448334Z",
     "start_time": "2018-11-19T10:29:56.435077Z"
    }
   },
   "outputs": [
    {
     "ename": "AssertionError",
     "evalue": "the function `thomas` is incorrect",
     "output_type": "error",
     "traceback": [
      "\u001b[0;31m---------------------------------------------------------------------------\u001b[0m",
      "\u001b[0;31mAssertionError\u001b[0m                            Traceback (most recent call last)",
      "\u001b[0;32m<ipython-input-13-cff738fedbd8>\u001b[0m in \u001b[0;36m<module>\u001b[0;34m()\u001b[0m\n\u001b[1;32m     13\u001b[0m \u001b[0;34m\u001b[0m\u001b[0m\n\u001b[1;32m     14\u001b[0m \u001b[0mx\u001b[0m \u001b[0;34m=\u001b[0m \u001b[0mthomas\u001b[0m\u001b[0;34m(\u001b[0m\u001b[0ma\u001b[0m\u001b[0;34m,\u001b[0m \u001b[0mb\u001b[0m\u001b[0;34m,\u001b[0m \u001b[0mc\u001b[0m\u001b[0;34m,\u001b[0m \u001b[0md\u001b[0m\u001b[0;34m)\u001b[0m\u001b[0;34m\u001b[0m\u001b[0m\n\u001b[0;32m---> 15\u001b[0;31m \u001b[0;32massert\u001b[0m \u001b[0mnp\u001b[0m\u001b[0;34m.\u001b[0m\u001b[0mallclose\u001b[0m\u001b[0;34m(\u001b[0m\u001b[0mx\u001b[0m\u001b[0;34m,\u001b[0m\u001b[0mxtheo\u001b[0m\u001b[0;34m)\u001b[0m\u001b[0;34m,\u001b[0m \u001b[0;34m\"the function `thomas` is incorrect\"\u001b[0m\u001b[0;34m\u001b[0m\u001b[0m\n\u001b[0m\u001b[1;32m     16\u001b[0m \u001b[0mprint\u001b[0m\u001b[0;34m(\u001b[0m\u001b[0;34m\"Residu\"\u001b[0m\u001b[0;34m,\u001b[0m \u001b[0mnp\u001b[0m\u001b[0;34m.\u001b[0m\u001b[0msum\u001b[0m\u001b[0;34m(\u001b[0m\u001b[0mnp\u001b[0m\u001b[0;34m.\u001b[0m\u001b[0mabs\u001b[0m\u001b[0;34m(\u001b[0m\u001b[0mx\u001b[0m \u001b[0;34m-\u001b[0m \u001b[0mxtheo\u001b[0m\u001b[0;34m)\u001b[0m\u001b[0;34m)\u001b[0m\u001b[0;34m)\u001b[0m\u001b[0;34m\u001b[0m\u001b[0m\n",
      "\u001b[0;31mAssertionError\u001b[0m: the function `thomas` is incorrect"
     ]
    }
   ],
   "source": [
    "\"\"\"Verification of the function\n",
    "We generate a random tri-diagnonal $A$ matrix as well as a random solution $x_{theo}$,\n",
    "and calculate the source therm `b` that solve $A x_{theo} = b$ \"\"\"\n",
    "\n",
    "def tridiag(a, b, c, k1=-1, k2=0, k3=1):\n",
    "    \"\"\"Return a tridiagonal matrix \"\"\"\n",
    "    return np.diag(c[1:], k1) + np.diag(a, k2) + np.diag(b[:-1], k3)\n",
    "\n",
    "N = 40\n",
    "a, b, c, xtheo = [ np.random.rand(N) for i in range(4)]\n",
    "A = tridiag(a, b, c)\n",
    "d = A.dot(xtheo)\n",
    "\n",
    "x = thomas(a, b, c, d)\n",
    "assert np.allclose(x,xtheo), \"the function `thomas` is incorrect\"\n",
    "print(\"Residu\", np.sum(np.abs(x - xtheo)))"
   ]
  },
  {
   "cell_type": "markdown",
   "metadata": {},
   "source": [
    "## Solving the Poisson equation with Thomas' algorithm for 2 very simple source terms\n",
    "\n",
    "Use the `thomas` function you have written to solve the poisson equation of question 2.1.3 for the different cases:\n",
    "1. No charge density ($\\rho = 0$)\n",
    "1. Uniform charge density ($\\rho = 1$)\n",
    "\n",
    "For each case, plot the results using `matplotlib.pyplot`, and analyse the results briefly\n"
   ]
  },
  {
   "cell_type": "code",
   "execution_count": 14,
   "metadata": {
    "ExecuteTime": {
     "end_time": "2018-11-19T10:29:56.659280Z",
     "start_time": "2018-11-19T10:29:56.449882Z"
    }
   },
   "outputs": [],
   "source": [
    "import matplotlib.pyplot as plt\n",
    "%matplotlib inline"
   ]
  },
  {
   "cell_type": "markdown",
   "metadata": {},
   "source": [
    "**1. No charge density**"
   ]
  },
  {
   "cell_type": "code",
   "execution_count": 1,
   "metadata": {
    "ExecuteTime": {
     "end_time": "2019-11-18T08:09:45.587737Z",
     "start_time": "2019-11-18T08:09:45.579672Z"
    }
   },
   "outputs": [],
   "source": [
    "Ua = 10  # Anode potential\n",
    "Uc = 0   # Cathode potential\n",
    "N = 50   # Number of points that discretize the domain\n",
    "Lx = 1   # size of the domain"
   ]
  },
  {
   "cell_type": "code",
   "execution_count": 16,
   "metadata": {
    "ExecuteTime": {
     "end_time": "2018-11-19T10:29:56.677254Z",
     "start_time": "2018-11-19T10:29:56.668120Z"
    }
   },
   "outputs": [
    {
     "data": {
      "text/plain": [
       "' No charge density: solver'"
      ]
     },
     "execution_count": 16,
     "metadata": {},
     "output_type": "execute_result"
    }
   ],
   "source": [
    "\"\"\" No charge density: solver\"\"\"\n",
    "\n",
    "# write your code here"
   ]
  },
  {
   "cell_type": "code",
   "execution_count": 17,
   "metadata": {
    "ExecuteTime": {
     "end_time": "2018-11-19T10:29:56.879480Z",
     "start_time": "2018-11-19T10:29:56.679428Z"
    }
   },
   "outputs": [
    {
     "data": {
      "image/png": "[encoded data removed]",
      "text/plain": [
       "<Figure size 360x216 with 1 Axes>"
      ]
     },
     "metadata": {},
     "output_type": "display_data"
    }
   ],
   "source": [
    "\"\"\"No charge density: results\"\"\"\n",
    "plt.figure(figsize=(5,3))\n",
    "plt.title(\"Plasma potential \\n with no charge density\")\n",
    "plt.ylabel(\"Potential [V]\")\n",
    "plt.xlabel(\"Position x\")\n",
    "plt.tight_layout()\n",
    "# Genergate the figure here"
   ]
  },
  {
   "cell_type": "markdown",
   "metadata": {},
   "source": [
    "**1. Uniform charge density**"
   ]
  },
  {
   "cell_type": "code",
   "execution_count": 18,
   "metadata": {
    "ExecuteTime": {
     "end_time": "2018-11-19T10:29:56.884573Z",
     "start_time": "2018-11-19T10:29:56.881530Z"
    }
   },
   "outputs": [],
   "source": [
    "rho = np.ones(N)  # source therm"
   ]
  },
  {
   "cell_type": "code",
   "execution_count": 19,
   "metadata": {
    "ExecuteTime": {
     "end_time": "2018-11-19T10:29:56.896782Z",
     "start_time": "2018-11-19T10:29:56.886587Z"
    }
   },
   "outputs": [
    {
     "data": {
      "text/plain": [
       "' Uniform charge density: solver'"
      ]
     },
     "execution_count": 19,
     "metadata": {},
     "output_type": "execute_result"
    }
   ],
   "source": [
    "\"\"\" Uniform charge density: solver\"\"\"\n",
    "\n",
    "# write your code here"
   ]
  },
  {
   "cell_type": "code",
   "execution_count": 20,
   "metadata": {
    "ExecuteTime": {
     "end_time": "2018-11-19T10:29:57.091969Z",
     "start_time": "2018-11-19T10:29:56.902768Z"
    }
   },
   "outputs": [
    {
     "data": {
      "image/png": "[encoded data removed]",
      "text/plain": [
       "<Figure size 360x216 with 1 Axes>"
      ]
     },
     "metadata": {},
     "output_type": "display_data"
    }
   ],
   "source": [
    "\"\"\"No charge density: results\"\"\"\n",
    "plt.figure(figsize=(5,3))\n",
    "plt.title(\"Plasma potential \\n with a uniform charge density\")\n",
    "plt.ylabel(\"Potential [V]\")\n",
    "plt.xlabel(\"Position x\")\n",
    "plt.tight_layout()\n",
    "# Genergate the figure here"
   ]
  },
  {
   "cell_type": "markdown",
   "metadata": {},
   "source": [
    "# Use of a manufactured solution : a method to test the solver for a more complex source term\n",
    "\n",
    "In order to validate the solver, the usual approach is to use a _manufactured solution_ : first, an analytical potential is chosen (which matches the boundary conditions). With this chosen potential, the analytical calculation of the left hand side of Poisson's equation is carried out to derive the analytical expression of the source term. To check the solver, the analytical source term is implemented and we check if the calculated potential is equal to the initial analytical potentiel chosen initially. \n",
    "This is an efficient way to check the solver for conditions closer to those encountered during the plasma simulations.\n",
    "\n",
    "In this section, we propose to test this method.\n",
    "\n",
    "1. Choose an arbitrary analytical solution $\\phi_{theo}(x)$ (using a trigonometric function, polynoms or anything else)\n",
    "2. Find $\\rho_{theo}(x) = - \\epsilon_0 \\Delta_x \\phi_{theo}(x)$ \n",
    "3. Solve $\\phi_{num}$ using the `thomas` function, and compare it to $\\phi_{theo}$\n"
   ]
  },
  {
   "cell_type": "code",
   "execution_count": 12,
   "metadata": {
    "ExecuteTime": {
     "end_time": "2018-11-19T10:29:57.107744Z",
     "start_time": "2018-11-19T10:29:57.098937Z"
    }
   },
   "outputs": [],
   "source": [
    "def phi_theo(x):\n",
    "    \"\"\"your defined solution\"\"\"\n",
    "    # your code here\n",
    "    return phi\n",
    "    \n",
    "def rho_theo(x):\n",
    "    \"\"\"your defined source term\"\"\"\n",
    "    # your code here\n",
    "    return rho"
   ]
  },
  {
   "cell_type": "code",
   "execution_count": 13,
   "metadata": {
    "ExecuteTime": {
     "end_time": "2018-11-19T10:29:57.123066Z",
     "start_time": "2018-11-19T10:29:57.115497Z"
    }
   },
   "outputs": [
    {
     "data": {
      "text/plain": [
       "'Solving phi for rho_theo'"
      ]
     },
     "execution_count": 13,
     "metadata": {},
     "output_type": "execute_result"
    }
   ],
   "source": [
    "\"\"\"Solving phi for rho_theo\"\"\"\n",
    "# your code here"
   ]
  },
  {
   "cell_type": "markdown",
   "metadata": {
    "ExecuteTime": {
     "end_time": "2018-11-19T08:54:07.782421Z",
     "start_time": "2018-11-19T08:54:07.774731Z"
    }
   },
   "source": [
    "_____________________________\n",
    "Your comments here\n",
    "______________________"
   ]
  },
  {
   "cell_type": "markdown",
   "metadata": {},
   "source": [
    "# Calculation of the electric field\n",
    "\n",
    "For plasma simulations, the key quantity for the transport of charges particles and electron-impact reaction rate coefficients is the electric field. Therefore it is important to derive the electric field from the potential.\n",
    "We need to calculate the electric field at different locations : at the interface between the cells (for transport terms) **and** at the center of the cells (for source terms).\n",
    "In this section, you have to derive the electric field at both locations for the test-case of the previous section ( with the manufactured solution). Compare your results on the electric field with the one you can derive directly analytically.\n"
   ]
  },
  {
   "cell_type": "code",
   "execution_count": 1,
   "metadata": {
    "ExecuteTime": {
     "end_time": "2018-11-19T13:18:14.519617Z",
     "start_time": "2018-11-19T13:18:14.499017Z"
    }
   },
   "outputs": [
    {
     "data": {
      "text/plain": [
       "'Electric field at the interfaces between the cells'"
      ]
     },
     "execution_count": 1,
     "metadata": {},
     "output_type": "execute_result"
    }
   ],
   "source": [
    "\"\"\"Electric field at the interfaces between the cells\"\"\"\n",
    "# Your code here\n"
   ]
  },
  {
   "cell_type": "code",
   "execution_count": 2,
   "metadata": {
    "ExecuteTime": {
     "end_time": "2018-11-19T13:18:24.444306Z",
     "start_time": "2018-11-19T13:18:24.432006Z"
    }
   },
   "outputs": [
    {
     "data": {
      "text/plain": [
       "'Electric field at the center of the cells'"
      ]
     },
     "execution_count": 2,
     "metadata": {},
     "output_type": "execute_result"
    }
   ],
   "source": [
    "\"\"\"Electric field at the center of the cells\"\"\"\n",
    "# Your code here\n"
   ]
  },
  {
   "cell_type": "code",
   "execution_count": null,
   "metadata": {},
   "outputs": [],
   "source": []
  }
 ],
 "metadata": {
  "kernelspec": {
   "display_name": "Python 3",
   "language": "python",
   "name": "python3"
  },
  "language_info": {
   "codemirror_mode": {
    "name": "ipython",
    "version": 3
   },
   "file_extension": ".py",
   "mimetype": "text/x-python",
   "name": "python",
   "nbconvert_exporter": "python",
   "pygments_lexer": "ipython3",
   "version": "3.7.4"
  },
  "latex_envs": {
   "LaTeX_envs_menu_present": true,
   "autoclose": true,
   "autocomplete": false,
   "bibliofile": "biblio.bib",
   "cite_by": "apalike",
   "current_citInitial": 1,
   "eqLabelWithNumbers": true,
   "eqNumInitial": 1,
   "hotkeys": {
    "equation": "Ctrl-E",
    "itemize": "Ctrl-I"
   },
   "labels_anchors": false,
   "latex_user_defs": false,
   "report_style_numbering": false,
   "user_envs_cfg": false
  },
  "toc": {
   "base_numbering": 1,
   "nav_menu": {},
   "number_sections": true,
   "sideBar": true,
   "skip_h1_title": false,
   "title_cell": "Table of Contents",
   "title_sidebar": "Contents",
   "toc_cell": false,
   "toc_position": {},
   "toc_section_display": true,
   "toc_window_display": false
  },
  "varInspector": {
   "cols": {
    "lenName": 16,
    "lenType": 16,
    "lenVar": 40
   },
   "kernels_config": {
    "python": {
     "delete_cmd_postfix": "",
     "delete_cmd_prefix": "del ",
     "library": "var_list.py",
     "varRefreshCmd": "print(var_dic_list())"
    },
    "r": {
     "delete_cmd_postfix": ") ",
     "delete_cmd_prefix": "rm(",
     "library": "var_list.r",
     "varRefreshCmd": "cat(var_dic_list()) "
    }
   },
   "types_to_exclude": [
    "module",
    "function",
    "builtin_function_or_method",
    "instance",
    "_Feature"
   ],
   "window_display": false
  }
 },
 "nbformat": 4,
 "nbformat_minor": 2
}
