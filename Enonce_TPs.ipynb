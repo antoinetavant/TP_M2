{
 "cells": [
  {
   "cell_type": "markdown",
   "metadata": {},
   "source": [
    "# Pratical work on numerical methods\n",
    "\n",
    "## Introduction and informations\n",
    "\n",
    "* On python: [see here](notebooks/Python_and_linear_algebra.ipynb)\n",
    "* More on the notebooks: [here](https://www.dataquest.io/blog/jupyter-notebook-tutorial/#thenotebookinterface)\n",
    "\n",
    "* Introduction to linear algera solvers : [see here](notebooks/Linear_systems.ipynb)\n"
   ]
  },
  {
   "cell_type": "markdown",
   "metadata": {},
   "source": [
    "# Exercices\n",
    "\n",
    "Several exercices are proposed.\n",
    "They should be performed in the following order.\n",
    "\n",
    "1. [1D poisson solver for a plasma between metallic walls](notebooks/TP1_Poisson_1D.ipynb)\n",
    "1. [1D poisson solver: performances](notebooks/TP2_Poisson_1Dbis.ipynb)\n",
    "1. [2D poisson solver for a plasma between metallic walls](notebooks/TP3_Poisson_2D.ipynb)\n",
    "1. [1D poisson solver for a plasma between metallic walls covered by dielectric walls](notebooks/TP4_Poisson_1D_dielectric.ipynb) (Optional)\n"
   ]
  },
  {
   "cell_type": "markdown",
   "metadata": {},
   "source": [
    "# Guidelines\n",
    "\n",
    "There is a reminder of the guidelines:\n",
    "* write directly in the notebooks, there is no need for another report.\n",
    "* Send your work to anne.bourdon@lpp.polytechnique.fr and antoine.tavant@lpp.polytechnique.fr as an archive of the folder (`tar.gz` or `zip`)\n",
    "* Deadline is: **December 18, 2020 at 23h59**"
   ]
  },
  {
   "cell_type": "code",
   "execution_count": null,
   "metadata": {},
   "outputs": [],
   "source": []
  }
 ],
 "metadata": {
  "kernelspec": {
   "display_name": "Python 3",
   "language": "python",
   "name": "python3"
  },
  "language_info": {
   "codemirror_mode": {
    "name": "ipython",
    "version": 3
   },
   "file_extension": ".py",
   "mimetype": "text/x-python",
   "name": "python",
   "nbconvert_exporter": "python",
   "pygments_lexer": "ipython3",
   "version": "3.8.6"
  },
  "latex_envs": {
   "LaTeX_envs_menu_present": true,
   "autoclose": true,
   "autocomplete": false,
   "bibliofile": "biblio.bib",
   "cite_by": "apalike",
   "current_citInitial": 1,
   "eqLabelWithNumbers": true,
   "eqNumInitial": 1,
   "hotkeys": {
    "equation": "Ctrl-E",
    "itemize": "Ctrl-I"
   },
   "labels_anchors": false,
   "latex_user_defs": false,
   "report_style_numbering": false,
   "user_envs_cfg": false
  },
  "toc": {
   "base_numbering": 1,
   "nav_menu": {},
   "number_sections": true,
   "sideBar": true,
   "skip_h1_title": false,
   "title_cell": "Table of Contents",
   "title_sidebar": "Contents",
   "toc_cell": false,
   "toc_position": {},
   "toc_section_display": true,
   "toc_window_display": false
  },
  "varInspector": {
   "cols": {
    "lenName": 16,
    "lenType": 16,
    "lenVar": 40
   },
   "kernels_config": {
    "python": {
     "delete_cmd_postfix": "",
     "delete_cmd_prefix": "del ",
     "library": "var_list.py",
     "varRefreshCmd": "print(var_dic_list())"
    },
    "r": {
     "delete_cmd_postfix": ") ",
     "delete_cmd_prefix": "rm(",
     "library": "var_list.r",
     "varRefreshCmd": "cat(var_dic_list()) "
    }
   },
   "types_to_exclude": [
    "module",
    "function",
    "builtin_function_or_method",
    "instance",
    "_Feature"
   ],
   "window_display": false
  }
 },
 "nbformat": 4,
 "nbformat_minor": 4
}
